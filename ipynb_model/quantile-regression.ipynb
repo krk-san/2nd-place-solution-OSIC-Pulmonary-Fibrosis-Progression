{
 "cells": [
  {
   "cell_type": "markdown",
   "metadata": {
    "papermill": {
     "duration": 0.022083,
     "end_time": "2021-01-11T05:40:15.510561",
     "exception": false,
     "start_time": "2021-01-11T05:40:15.488478",
     "status": "completed"
    },
    "tags": []
   },
   "source": [
    "# About\n",
    "This notebook is the Quantile Regression part of the 2nd place solution, which is a slightly modified version. "
   ]
  },
  {
   "cell_type": "markdown",
   "metadata": {
    "papermill": {
     "duration": 0.018272,
     "end_time": "2021-01-11T05:40:15.548169",
     "exception": false,
     "start_time": "2021-01-11T05:40:15.529897",
     "status": "completed"
    },
    "tags": []
   },
   "source": [
    "# Setting"
   ]
  },
  {
   "cell_type": "code",
   "execution_count": 1,
   "metadata": {
    "_cell_guid": "b1076dfc-b9ad-4769-8c92-a6c4dae69d19",
    "_uuid": "8f2839f25d086af736a60e9eeb907d3b93b6e0e5",
    "execution": {
     "iopub.execute_input": "2021-01-11T05:40:15.590856Z",
     "iopub.status.busy": "2021-01-11T05:40:15.588955Z",
     "iopub.status.idle": "2021-01-11T05:40:29.698862Z",
     "shell.execute_reply": "2021-01-11T05:40:29.698118Z"
    },
    "papermill": {
     "duration": 14.132369,
     "end_time": "2021-01-11T05:40:29.698977",
     "exception": false,
     "start_time": "2021-01-11T05:40:15.566608",
     "status": "completed"
    },
    "tags": []
   },
   "outputs": [],
   "source": [
    "# Import Libraries\n",
    "import os\n",
    "import numpy as np\n",
    "import pandas as pd\n",
    "import random\n",
    "\n",
    "from tqdm import tqdm_notebook\n",
    "from plotnine import *\n",
    "from sklearn.linear_model import LinearRegression\n",
    "from sklearn.model_selection import StratifiedKFold\n",
    "from sklearn.cluster import KMeans\n",
    "from sklearn.metrics import mean_absolute_error\n",
    "\n",
    "import matplotlib.pyplot as plt\n",
    "\n",
    "import warnings\n",
    "warnings.simplefilter('ignore')\n",
    "\n",
    "import tensorflow as tf\n",
    "from tensorflow.keras import Model\n",
    "import tensorflow.keras.backend as K\n",
    "import tensorflow.keras.layers as L\n",
    "import tensorflow.keras.models as M\n",
    "from tensorflow.keras.callbacks import ModelCheckpoint\n",
    "from keras.callbacks import EarlyStopping\n",
    "\n",
    "import json\n",
    "import gc"
   ]
  },
  {
   "cell_type": "code",
   "execution_count": 2,
   "metadata": {
    "execution": {
     "iopub.execute_input": "2021-01-11T05:40:29.734989Z",
     "iopub.status.busy": "2021-01-11T05:40:29.733919Z",
     "iopub.status.idle": "2021-01-11T05:40:29.738345Z",
     "shell.execute_reply": "2021-01-11T05:40:29.737756Z"
    },
    "papermill": {
     "duration": 0.025551,
     "end_time": "2021-01-11T05:40:29.738457",
     "exception": false,
     "start_time": "2021-01-11T05:40:29.712906",
     "status": "completed"
    },
    "tags": []
   },
   "outputs": [],
   "source": [
    "# Setting Seeds\n",
    "def seed_everything(seed=2020):\n",
    "    random.seed(seed)\n",
    "    os.environ['PYTHONHASHSEED'] = str(seed)\n",
    "    np.random.seed(seed)\n",
    "    tf.random.set_seed(seed)\n",
    "\n",
    "    \n",
    "seed_everything(42)"
   ]
  },
  {
   "cell_type": "code",
   "execution_count": 3,
   "metadata": {
    "execution": {
     "iopub.execute_input": "2021-01-11T05:40:29.770483Z",
     "iopub.status.busy": "2021-01-11T05:40:29.769767Z",
     "iopub.status.idle": "2021-01-11T05:40:29.786863Z",
     "shell.execute_reply": "2021-01-11T05:40:29.785975Z"
    },
    "papermill": {
     "duration": 0.035852,
     "end_time": "2021-01-11T05:40:29.787024",
     "exception": false,
     "start_time": "2021-01-11T05:40:29.751172",
     "status": "completed"
    },
    "tags": []
   },
   "outputs": [
    {
     "name": "stdout",
     "output_type": "stream",
     "text": [
      "{'PATH': {'ROOT': '../input/', 'TRAIN_CSV_PATH': '../input/osic-pulmonary-fibrosis-progression/train.csv', 'TEST_CSV_PATH': '../input/osic-pulmonary-fibrosis-progression/test.csv', 'SAMPLESUB_CSV_PATH': '../input/osic-pulmonary-fibrosis-progression/sample_submission.csv', 'TRAIN_DATA_DIR': '../input/osic-pulmonary-fibrosis-progression/train/', 'TEST_DATA_DIR': '../input/osic-pulmonary-fibrosis-progression/test/', 'MASK_NOISE_DIR': '../input/osic-pulmonary-fibrosis-progression-lungs-mask/mask_noise/mask_noise/', 'TRAIN_MODEL_WEIGHTS_DIR': '../input/training-osic-2nd-place-code/'}, 'PARAMS': {'MODELS_EFF': [0], 'WEIGHT_EFF': 0.2, 'NFOLDS': 4, 'BATCH_SIZE': 128, 'EPOCHS': 300, 'EARLY_STOPPING': 150, 'NUM_LAST_FVC': 2, 'QS1': 0.2, 'QS2': 0.5, 'QS3': 0.8}, 'FEATURES': ['Sex_Female', 'Sex_Male', 'SmokingStatus_Currently smokes', 'SmokingStatus_Ex-smoker', 'SmokingStatus_Never smoked', 'age', 'percent', 'week', 'min_fvc']}\n"
     ]
    }
   ],
   "source": [
    "# Load Setting File\n",
    "json_open = open('../input/settings/settings.json')\n",
    "SETTINGS = json.load(json_open)\n",
    "\n",
    "PATH = SETTINGS['PATH']\n",
    "PARAMS = SETTINGS['PARAMS']\n",
    "FEATURES = SETTINGS['FEATURES']\n",
    "\n",
    "print(SETTINGS)"
   ]
  },
  {
   "cell_type": "markdown",
   "metadata": {
    "papermill": {
     "duration": 0.015073,
     "end_time": "2021-01-11T05:40:29.823801",
     "exception": false,
     "start_time": "2021-01-11T05:40:29.808728",
     "status": "completed"
    },
    "tags": []
   },
   "source": [
    "# Preprocess\n"
   ]
  },
  {
   "cell_type": "markdown",
   "metadata": {
    "papermill": {
     "duration": 0.013044,
     "end_time": "2021-01-11T05:40:29.850881",
     "exception": false,
     "start_time": "2021-01-11T05:40:29.837837",
     "status": "completed"
    },
    "tags": []
   },
   "source": [
    "## Feature Engineering"
   ]
  },
  {
   "cell_type": "code",
   "execution_count": 4,
   "metadata": {
    "_cell_guid": "79c7e3d0-c299-4dcb-8224-4455121ee9b0",
    "_uuid": "d629ff2d2480ee46fbb7e2d37f6b5fab8052498a",
    "execution": {
     "iopub.execute_input": "2021-01-11T05:40:29.892534Z",
     "iopub.status.busy": "2021-01-11T05:40:29.886818Z",
     "iopub.status.idle": "2021-01-11T05:40:30.728132Z",
     "shell.execute_reply": "2021-01-11T05:40:30.728715Z"
    },
    "papermill": {
     "duration": 0.864907,
     "end_time": "2021-01-11T05:40:30.728860",
     "exception": false,
     "start_time": "2021-01-11T05:40:29.863953",
     "status": "completed"
    },
    "tags": []
   },
   "outputs": [],
   "source": [
    "# Load Train Data\n",
    "train_df = pd.read_csv(PATH['TRAIN_CSV_PATH'])\n",
    "train_df.drop_duplicates(keep=False, inplace=True, subset=['Patient', 'Weeks'])\n",
    "\n",
    "# Load Test Data\n",
    "test_df = pd.read_csv(PATH['TEST_CSV_PATH'])\n",
    "sub_df = pd.read_csv(PATH['SAMPLESUB_CSV_PATH'], usecols = ['Patient_Week', 'Confidence'])\n",
    "sub_df[['Patient', 'Weeks']] = sub_df['Patient_Week'].apply(lambda x: pd.Series([x.split('_')[0], int(x.split('_')[-1])]))\n",
    "sub_df = sub_df.merge(test_df.drop('Weeks', axis=1), on='Patient')\n",
    "\n",
    "train_df['data'] = 'train'\n",
    "test_df['data'] = 'test'\n",
    "sub_df['data'] = 'sub'\n",
    "\n",
    "# Recalculate 'Weeks'\n",
    "data = train_df.append([test_df, sub_df])\n",
    "data['min_week'] = data['Weeks']\n",
    "data.loc[data['data'] == 'sub', 'min_week'] = np.nan\n",
    "data['min_week'] = data.groupby('Patient')['min_week'].transform('min')\n",
    "data['base_week'] = data['Weeks'] - data['min_week']\n",
    "\n",
    "# Fix 'Percent' and 'FVC' to the initial values\n",
    "data_init = data.loc[data['Weeks'] == data['min_week']][['Patient', 'FVC', 'Percent']]\n",
    "data_init.columns = ['Patient', 'min_FVC', 'min_Percent']\n",
    "data_init['nb'] = 1\n",
    "data_init['nb'] = data_init.groupby('Patient')['nb'].transform('cumsum')\n",
    "data_init = data_init[data_init.nb==1]\n",
    "data = data.merge(data_init, on='Patient', how='left')\n",
    "\n",
    "del test_df, data_init\n",
    "gc.collect()\n",
    "\n",
    "# One-Hot Encoding ('Sex', 'SmokingStatus')\n",
    "FE_CATEGORICAL = ['Sex', 'SmokingStatus']\n",
    "data_categorical = pd.get_dummies(data[FE_CATEGORICAL])\n",
    "data = pd.concat([data, data_categorical], axis=1)\n",
    "\n",
    "del data_categorical\n",
    "gc.collect()\n",
    "\n",
    "# Min-Max Scaler ('Age', 'FVC', 'Weeks', 'Percent')\n",
    "data['age'] = (data['Age'] - data['Age'].min()) / (data['Age'].max() - data['Age'].min())\n",
    "data['min_fvc'] = (data['min_FVC'] - data['min_FVC'].min()) / (data['min_FVC'].max() - data['min_FVC'].min())\n",
    "data['week'] = (data['base_week'] - data['base_week'].min()) / (data['base_week'].max() - data['base_week'].min())\n",
    "data['percent'] = (data['min_Percent'] - data['min_Percent'].min()) / (data['min_Percent'].max() - data['min_Percent'].min())\n",
    "\n",
    "# Split Data\n",
    "train_df = data.loc[data['data'] == 'train']\n",
    "sub_df = data.loc[data['data'] == 'sub']"
   ]
  },
  {
   "cell_type": "markdown",
   "metadata": {
    "papermill": {
     "duration": 0.013762,
     "end_time": "2021-01-11T05:40:30.756603",
     "exception": false,
     "start_time": "2021-01-11T05:40:30.742841",
     "status": "completed"
    },
    "tags": []
   },
   "source": [
    "## Cluster Patients\n"
   ]
  },
  {
   "cell_type": "code",
   "execution_count": 5,
   "metadata": {
    "execution": {
     "iopub.execute_input": "2021-01-11T05:40:30.791575Z",
     "iopub.status.busy": "2021-01-11T05:40:30.790583Z",
     "iopub.status.idle": "2021-01-11T05:40:31.640751Z",
     "shell.execute_reply": "2021-01-11T05:40:31.639758Z"
    },
    "papermill": {
     "duration": 0.868362,
     "end_time": "2021-01-11T05:40:31.640902",
     "exception": false,
     "start_time": "2021-01-11T05:40:30.772540",
     "status": "completed"
    },
    "tags": []
   },
   "outputs": [
    {
     "data": {
      "application/vnd.jupyter.widget-view+json": {
       "model_id": "c8baa2361f7f40db936dbd7c8464f630",
       "version_major": 2,
       "version_minor": 0
      },
      "text/plain": [
       "HBox(children=(FloatProgress(value=0.0, max=176.0), HTML(value='')))"
      ]
     },
     "metadata": {},
     "output_type": "display_data"
    },
    {
     "name": "stdout",
     "output_type": "stream",
     "text": [
      "\n"
     ]
    }
   ],
   "source": [
    "# Linear Regression with the last few FVC\n",
    "training_patient = train_df[~train_df.duplicated(subset=['Patient'])]\n",
    "\n",
    "for patient in tqdm_notebook(train_df['Patient'].unique()): \n",
    "    idx = train_df['Patient'] == patient\n",
    "    z = ((train_df.loc[idx, 'FVC'].values[-PARAMS['NUM_LAST_FVC']:] - train_df.loc[idx, 'FVC'].values[-PARAMS['NUM_LAST_FVC']:].mean()) /\n",
    "         train_df.loc[idx, 'FVC'].values[-PARAMS['NUM_LAST_FVC']:].std())\n",
    "    reg = LinearRegression(normalize=True,fit_intercept=True).fit(train_df.loc[idx, 'Weeks'].values[-PARAMS['NUM_LAST_FVC']:].reshape(-1,1),z)\n",
    "    train_df.loc[idx, 'Intercept_2'] = reg.intercept_\n",
    "    train_df.loc[idx, 'Coef_2'] = reg.coef_[0]\n",
    "    \n",
    "training_patient = train_df.drop_duplicates('Patient') \n",
    "(ggplot(training_patient) + aes(x='Intercept_2',y='Coef_2',fill='Sex',size='FVC') + geom_point(alpha=0.4) )\n",
    "\n",
    "# Clustering Patients\n",
    "cust_array = np.array([training_patient['Intercept_2'].tolist(),training_patient['Coef_2'].tolist()])\n",
    "cust_array = cust_array.T\n",
    "\n",
    "kmeans = KMeans(n_clusters=4, random_state=0)\n",
    "clusters = kmeans.fit(cust_array)\n",
    "training_patient['Group'] = clusters.labels_\n",
    "\n",
    "(ggplot(training_patient) + aes(x='Intercept_2',y='Coef_2',fill='Group') + geom_point(alpha=0.4) )\n",
    "\n",
    "skf = StratifiedKFold(n_splits=PARAMS['NFOLDS'])\n",
    "splitter = skf.split(training_patient, training_patient['Group'])"
   ]
  },
  {
   "cell_type": "markdown",
   "metadata": {
    "papermill": {
     "duration": 0.020737,
     "end_time": "2021-01-11T05:40:31.683109",
     "exception": false,
     "start_time": "2021-01-11T05:40:31.662372",
     "status": "completed"
    },
    "tags": []
   },
   "source": [
    "# Training"
   ]
  },
  {
   "cell_type": "markdown",
   "metadata": {
    "papermill": {
     "duration": 0.021006,
     "end_time": "2021-01-11T05:40:31.725527",
     "exception": false,
     "start_time": "2021-01-11T05:40:31.704521",
     "status": "completed"
    },
    "tags": []
   },
   "source": [
    "## Define Model"
   ]
  },
  {
   "cell_type": "code",
   "execution_count": 6,
   "metadata": {
    "execution": {
     "iopub.execute_input": "2021-01-11T05:40:31.787309Z",
     "iopub.status.busy": "2021-01-11T05:40:31.785662Z",
     "iopub.status.idle": "2021-01-11T05:40:31.801188Z",
     "shell.execute_reply": "2021-01-11T05:40:31.800615Z"
    },
    "papermill": {
     "duration": 0.054219,
     "end_time": "2021-01-11T05:40:31.801341",
     "exception": false,
     "start_time": "2021-01-11T05:40:31.747122",
     "status": "completed"
    },
    "tags": []
   },
   "outputs": [],
   "source": [
    "# Metric\n",
    "def score(y_true, y_pred):\n",
    "    C1, C2 = tf.constant(70, dtype='float32'), tf.constant(1000, dtype=\"float32\")\n",
    "    tf.dtypes.cast(y_true, tf.float32)\n",
    "    tf.dtypes.cast(y_pred, tf.float32)\n",
    "    sigma = y_pred[:, 2] - y_pred[:, 0]\n",
    "    fvc_pred = y_pred[:, 1]\n",
    "\n",
    "    sigma_clip = tf.maximum(sigma, C1)\n",
    "    delta = tf.abs(y_true[:, 0] - fvc_pred)\n",
    "    delta = tf.minimum(delta, C2)\n",
    "    sq2 = tf.sqrt( tf.dtypes.cast(2, dtype=tf.float32) )\n",
    "    metric = (delta / sigma_clip)*sq2 + tf.math.log(sigma_clip* sq2)\n",
    "    return K.mean(metric)\n",
    "\n",
    "\n",
    "# Pinball Loss\n",
    "def qloss(y_true, y_pred, qs1=PARAMS['QS1'], qs2=PARAMS['QS2'], qs3=PARAMS['QS3']):\n",
    "    # Pinball loss for multiple quantiles\n",
    "    qs = [qs1, qs2, qs3]\n",
    "    q = tf.constant(np.array([qs]), dtype=tf.float32)\n",
    "    e = y_true - y_pred\n",
    "    v = tf.maximum(q*e, (q-1)*e)\n",
    "    return K.mean(v)\n",
    "\n",
    "\n",
    "# Loss\n",
    "def mloss(_lambda):\n",
    "    def loss(y_true, y_pred):\n",
    "        return _lambda * qloss(y_true, y_pred) + (1 - _lambda)*score(y_true, y_pred)\n",
    "    return loss\n",
    "\n",
    "\n",
    "# Build Model\n",
    "def make_model(nh):\n",
    "    z = L.Input((nh,), name=\"Patient\")\n",
    "    x = L.Dense(100, activation=\"relu\", name=\"d1\")(z)\n",
    "    x = L.Dense(100, activation=\"relu\", name=\"d2\")(x)\n",
    "\n",
    "    p1 = L.Dense(3, activation=\"linear\", name=\"p1\")(x)\n",
    "    p2 = L.Dense(3, activation=\"relu\", name=\"p2\")(x)\n",
    "    preds = L.Lambda(lambda x: x[0] + tf.cumsum(x[1], axis=1), \n",
    "                     name=\"preds\")([p1, p2])\n",
    "    \n",
    "    model = M.Model(z, preds, name=\"CNN\")\n",
    "    #model.compile(loss=qloss, optimizer=\"adam\", metrics=[score])\n",
    "    model.compile(loss=mloss(0.8), optimizer=tf.keras.optimizers.Adam(lr=0.1, beta_1=0.9, beta_2=0.999, epsilon=None, decay=0.01, amsgrad=False), metrics=[score])\n",
    "    return model"
   ]
  },
  {
   "cell_type": "markdown",
   "metadata": {
    "papermill": {
     "duration": 0.014051,
     "end_time": "2021-01-11T05:40:31.829790",
     "exception": false,
     "start_time": "2021-01-11T05:40:31.815739",
     "status": "completed"
    },
    "tags": []
   },
   "source": [
    "## Train"
   ]
  },
  {
   "cell_type": "code",
   "execution_count": 7,
   "metadata": {
    "execution": {
     "iopub.execute_input": "2021-01-11T05:40:31.879051Z",
     "iopub.status.busy": "2021-01-11T05:40:31.873654Z",
     "iopub.status.idle": "2021-01-11T05:41:18.254696Z",
     "shell.execute_reply": "2021-01-11T05:41:18.253969Z"
    },
    "papermill": {
     "duration": 46.410734,
     "end_time": "2021-01-11T05:41:18.254813",
     "exception": false,
     "start_time": "2021-01-11T05:40:31.844079",
     "status": "completed"
    },
    "tags": []
   },
   "outputs": [
    {
     "name": "stdout",
     "output_type": "stream",
     "text": [
      "FOLD 0\n",
      "train loss:50.62101 score:6.68654\n",
      " val  loss:64.57947 score:6.92511\n"
     ]
    },
    {
     "data": {
      "image/png": "[encoded data removed]",
      "text/plain": [
       "<Figure size 432x288 with 1 Axes>"
      ]
     },
     "metadata": {
      "needs_background": "light"
     },
     "output_type": "display_data"
    },
    {
     "data": {
      "image/png": "[encoded data removed]",
      "text/plain": [
       "<Figure size 432x288 with 1 Axes>"
      ]
     },
     "metadata": {
      "needs_background": "light"
     },
     "output_type": "display_data"
    },
    {
     "name": "stdout",
     "output_type": "stream",
     "text": [
      "FOLD 1\n",
      "train loss:46.44034 score:6.58898\n",
      " val  loss:85.21814 score:7.35808\n"
     ]
    },
    {
     "data": {
      "image/png": "[encoded data removed]",
      "text/plain": [
       "<Figure size 432x288 with 1 Axes>"
      ]
     },
     "metadata": {
      "needs_background": "light"
     },
     "output_type": "display_data"
    },
    {
     "data": {
      "image/png": "[encoded data removed]",
      "text/plain": [
       "<Figure size 432x288 with 1 Axes>"
      ]
     },
     "metadata": {
      "needs_background": "light"
     },
     "output_type": "display_data"
    },
    {
     "name": "stdout",
     "output_type": "stream",
     "text": [
      "FOLD 2\n",
      "train loss:51.00124 score:6.67647\n",
      " val  loss:63.93175 score:6.89632\n"
     ]
    },
    {
     "data": {
      "image/png": "[encoded data removed]",
      "text/plain": [
       "<Figure size 432x288 with 1 Axes>"
      ]
     },
     "metadata": {
      "needs_background": "light"
     },
     "output_type": "display_data"
    },
    {
     "data": {
      "image/png": "[encoded data removed]",
      "text/plain": [
       "<Figure size 432x288 with 1 Axes>"
      ]
     },
     "metadata": {
      "needs_background": "light"
     },
     "output_type": "display_data"
    },
    {
     "name": "stdout",
     "output_type": "stream",
     "text": [
      "FOLD 3\n",
      "train loss:50.23916 score:6.67994\n",
      " val  loss:63.70005 score:6.90910\n"
     ]
    },
    {
     "data": {
      "image/png": "[encoded data removed]",
      "text/plain": [
       "<Figure size 432x288 with 1 Axes>"
      ]
     },
     "metadata": {
      "needs_background": "light"
     },
     "output_type": "display_data"
    },
    {
     "data": {
      "image/png": "[encoded data removed]",
      "text/plain": [
       "<Figure size 432x288 with 1 Axes>"
      ]
     },
     "metadata": {
      "needs_background": "light"
     },
     "output_type": "display_data"
    }
   ],
   "source": [
    "# Prepare for training\n",
    "y = train_df['FVC'].values.astype('float32')\n",
    "z_train = train_df[FEATURES].values\n",
    "z_sub = sub_df[FEATURES].values\n",
    "nh = z_train.shape[1]\n",
    "pred_train = np.zeros((z_train.shape[0], 3))\n",
    "pred_sub = np.zeros((z_sub.shape[0], 3))\n",
    "\n",
    "# Cross-Validation\n",
    "for cnt, (tr_idx_pati, val_idx_pati) in enumerate(splitter):\n",
    "    # Preprocess\n",
    "    patient_train = training_patient['Patient'].iloc[tr_idx_pati]\n",
    "    patient_test = training_patient['Patient'].iloc[val_idx_pati]\n",
    "\n",
    "    tr_idx = train_df['Patient'].isin(patient_train)\n",
    "    val_idx = train_df['Patient'].isin(patient_test)\n",
    "    \n",
    "    data_train = train_df[tr_idx]\n",
    "    data_val = train_df[val_idx]\n",
    "    \n",
    "    data_train = data_train.sort_values(['Patient', 'Weeks'], ascending=True)\n",
    "    data_val = data_val.sort_values(['Patient', 'Weeks'], ascending=True)\n",
    "    \n",
    "    # Choose the last 3 FVC for validation\n",
    "    tmp = pd.DataFrame(columns = data_val.columns)\n",
    "    for i in range(3):\n",
    "        keep_idx = data_val.duplicated(subset=['Patient'], keep='last')\n",
    "        tmp = tmp.append(data_val[~keep_idx])\n",
    "        data_val = data_val[keep_idx]\n",
    "    data_val = tmp\n",
    "    del tmp\n",
    "    gc.collect()\n",
    "                      \n",
    "    tr_idx = data_train.index\n",
    "    val_idx = data_val.index   \n",
    "    \n",
    "    # Train\n",
    "    print(f'FOLD {cnt}')\n",
    "    model = make_model(nh)\n",
    "    modelCheckpoint = ModelCheckpoint(f'fold{cnt}.h5' , monitor='val_loss', verbose=0, save_best_only = True, save_weights_only=False, mode='auto')\n",
    "    early_stopping = EarlyStopping(monitor='val_loss', patience=PARAMS['EARLY_STOPPING'], verbose=0, mode='auto')\n",
    "    stack = model.fit(z_train[tr_idx], y[tr_idx], batch_size=PARAMS['EARLY_STOPPING'], \n",
    "                      validation_data=(z_train[val_idx], y[val_idx]), \n",
    "                      epochs=PARAMS['EPOCHS'],\n",
    "                      callbacks=[modelCheckpoint, early_stopping],\n",
    "                      verbose=0)\n",
    "     \n",
    "    # Predict\n",
    "    pred_train[val_idx] = model.predict(z_train[val_idx], batch_size=PARAMS['EARLY_STOPPING'], verbose=0)\n",
    "    pred_sub += model.predict(z_sub, batch_size=PARAMS['EARLY_STOPPING'], verbose=0) / PARAMS['NFOLDS']\n",
    "    \n",
    "    # Evaluate training\n",
    "    train_loss, train_score = model.evaluate(z_train[tr_idx], y[tr_idx], verbose=0, batch_size=PARAMS['EARLY_STOPPING'])\n",
    "    val_loss, val_score = model.evaluate(z_train[val_idx], y[val_idx], verbose=0, batch_size=PARAMS['EARLY_STOPPING'])\n",
    "    \n",
    "    # Print loss and score\n",
    "    print(f'train loss:{train_loss:.5f} score:{train_score:.5f}')\n",
    "    print(f' val  loss:{val_loss:.5f} score:{val_score:.5f}')\n",
    "\n",
    "    # Plot loss\n",
    "    fig=plt.figure()\n",
    "    plt.plot(stack.history['val_loss'], label=\"val_loss\")\n",
    "    plt.plot(stack.history['loss'], label=\"train_loss\")\n",
    "    plt.ylim([0,100])\n",
    "    plt.title(\"loss\")\n",
    "    plt.legend(loc='center left', bbox_to_anchor=(1, 0.5))\n",
    "    plt.show()\n",
    "    plt.clf()\n",
    "    plt.close()\n",
    "\n",
    "    # Plot score\n",
    "    fig=plt.figure()\n",
    "    plt.plot(stack.history['val_score'], label=\"val_score\")\n",
    "    plt.plot(stack.history['score'], label=\"train_score\")\n",
    "    plt.ylim([6,8])\n",
    "    plt.title(\"score\")\n",
    "    plt.legend(loc='center left', bbox_to_anchor=(1, 0.5))\n",
    "    plt.show()"
   ]
  },
  {
   "cell_type": "markdown",
   "metadata": {
    "papermill": {
     "duration": 0.025368,
     "end_time": "2021-01-11T05:41:18.305370",
     "exception": false,
     "start_time": "2021-01-11T05:41:18.280002",
     "status": "completed"
    },
    "tags": []
   },
   "source": [
    "## Evaluate"
   ]
  },
  {
   "cell_type": "code",
   "execution_count": 8,
   "metadata": {
    "execution": {
     "iopub.execute_input": "2021-01-11T05:41:18.372292Z",
     "iopub.status.busy": "2021-01-11T05:41:18.367536Z",
     "iopub.status.idle": "2021-01-11T05:41:18.516973Z",
     "shell.execute_reply": "2021-01-11T05:41:18.517723Z"
    },
    "papermill": {
     "duration": 0.186753,
     "end_time": "2021-01-11T05:41:18.517899",
     "exception": false,
     "start_time": "2021-01-11T05:41:18.331146",
     "status": "completed"
    },
    "tags": []
   },
   "outputs": [
    {
     "name": "stdout",
     "output_type": "stream",
     "text": [
      "CV score : 6.54132\n"
     ]
    }
   ],
   "source": [
    "# Calculate Cross-Validation Score\n",
    "def cal_cv(y_true, y_pred):\n",
    "    sigma = y_pred[:, 2] - y_pred[:, 0]\n",
    "    fvc_pred = y_pred[:, 1]\n",
    "    sigma_clip = np.max(sigma)\n",
    "    delta = np.abs(y_true[:, 0] - fvc_pred)\n",
    "    delta = np.min(delta)\n",
    "    sq2 = np.sqrt(2.)\n",
    "    metric = (delta / sigma_clip)*sq2 + np.log(sigma_clip* sq2)\n",
    "    return np.mean(metric)\n",
    "\n",
    "\n",
    "cv_score=0\n",
    "for id_patient in train_df['Patient'].unique():\n",
    "    idx_patient = train_df.loc[train_df['Patient'] == id_patient].index\n",
    "    cv_score += cal_cv(np.array(y[idx_patient]).reshape(-1, 1), pred_train[idx_patient])\n",
    "cv_score /= len(train_df['Patient'].unique())\n",
    "print(f\"CV score : {cv_score:.5f}\")"
   ]
  },
  {
   "cell_type": "markdown",
   "metadata": {
    "papermill": {
     "duration": 0.03592,
     "end_time": "2021-01-11T05:41:18.590062",
     "exception": false,
     "start_time": "2021-01-11T05:41:18.554142",
     "status": "completed"
    },
    "tags": []
   },
   "source": [
    "# Submission"
   ]
  },
  {
   "cell_type": "code",
   "execution_count": 9,
   "metadata": {
    "execution": {
     "iopub.execute_input": "2021-01-11T05:41:18.674287Z",
     "iopub.status.busy": "2021-01-11T05:41:18.673212Z",
     "iopub.status.idle": "2021-01-11T05:41:18.688249Z",
     "shell.execute_reply": "2021-01-11T05:41:18.687366Z"
    },
    "papermill": {
     "duration": 0.062525,
     "end_time": "2021-01-11T05:41:18.688385",
     "exception": false,
     "start_time": "2021-01-11T05:41:18.625860",
     "status": "completed"
    },
    "tags": []
   },
   "outputs": [],
   "source": [
    "# Calculate Confidence\n",
    "sigma_opt = mean_absolute_error(y, pred_train[:, 1])\n",
    "unc = pred_train[:,2] - pred_train[:, 0]\n",
    "sigma_mean = np.mean(unc)\n",
    "\n",
    "sub_df['FVC1'] = pred_sub[:, 1]\n",
    "sub_df['Confidence1'] = pred_sub[:, 2] - pred_sub[:, 0]\n",
    "subm = sub_df[['Patient_Week','FVC','Confidence','FVC1','Confidence1']].copy()\n",
    "subm.loc[~subm['FVC1'].isnull()].head(10)\n",
    "\n",
    "subm.loc[~subm['FVC1'].isnull(),'FVC'] = subm.loc[~subm['FVC1'].isnull(),'FVC1']\n",
    "if sigma_mean<70:\n",
    "    subm['Confidence'] = sigma_opt\n",
    "else:\n",
    "    subm.loc[~subm['FVC1'].isnull(),'Confidence'] = subm.loc[~subm['FVC1'].isnull(),'Confidence1']"
   ]
  },
  {
   "cell_type": "code",
   "execution_count": 10,
   "metadata": {
    "execution": {
     "iopub.execute_input": "2021-01-11T05:41:18.781078Z",
     "iopub.status.busy": "2021-01-11T05:41:18.770025Z",
     "iopub.status.idle": "2021-01-11T05:41:19.149295Z",
     "shell.execute_reply": "2021-01-11T05:41:19.147881Z"
    },
    "papermill": {
     "duration": 0.424966,
     "end_time": "2021-01-11T05:41:19.149625",
     "exception": false,
     "start_time": "2021-01-11T05:41:18.724659",
     "status": "completed"
    },
    "tags": []
   },
   "outputs": [
    {
     "name": "stdout",
     "output_type": "stream",
     "text": [
      "                    Patient_Week          FVC  Confidence\n",
      "0   ID00419637202311204720264_-1  3005.758972  284.871033\n",
      "1  ID00419637202311204720264_-10  3039.933167  283.241028\n",
      "2  ID00419637202311204720264_-11  3043.730347  283.059753\n",
      "3  ID00419637202311204720264_-12  3047.527527  282.878845\n",
      "4   ID00419637202311204720264_-2  3009.556152  284.689941\n"
     ]
    }
   ],
   "source": [
    "# Make CSV\n",
    "otest = pd.read_csv(PATH[\"TEST_CSV_PATH\"])\n",
    "for i in range(len(otest)):\n",
    "    subm.loc[subm['Patient_Week']==otest.Patient[i]+'_'+str(otest.Weeks[i]), 'FVC'] = otest.FVC[i]\n",
    "    subm.loc[subm['Patient_Week']==otest.Patient[i]+'_'+str(otest.Weeks[i]), 'Confidence'] = 0.1\n",
    "\n",
    "subm = subm.sort_values(by=['Patient_Week'], ascending=True).reset_index(drop=True)\n",
    "subm = subm[['Patient_Week', 'FVC', 'Confidence']]\n",
    "subm.to_csv('submission.csv', index=False)\n",
    "print(subm.head())"
   ]
  }
 ],
 "metadata": {
  "kernelspec": {
   "display_name": "Python 3",
   "language": "python",
   "name": "python3"
  },
  "language_info": {
   "codemirror_mode": {
    "name": "ipython",
    "version": 3
   },
   "file_extension": ".py",
   "mimetype": "text/x-python",
   "name": "python",
   "nbconvert_exporter": "python",
   "pygments_lexer": "ipython3",
   "version": "3.7.6"
  },
  "papermill": {
   "duration": 70.391887,
   "end_time": "2021-01-11T05:41:19.287572",
   "environment_variables": {},
   "exception": null,
   "input_path": "__notebook__.ipynb",
   "output_path": "__notebook__.ipynb",
   "parameters": {},
   "start_time": "2021-01-11T05:40:08.895685",
   "version": "2.1.0"
  },
  "widgets": {
   "application/vnd.jupyter.widget-state+json": {
    "state": {
     "1a26781343d44fde8ac2faa9f339fe35": {
      "model_module": "@jupyter-widgets/base",
      "model_module_version": "1.2.0",
      "model_name": "LayoutModel",
      "state": {
       "_model_module": "@jupyter-widgets/base",
       "_model_module_version": "1.2.0",
       "_model_name": "LayoutModel",
       "_view_count": null,
       "_view_module": "@jupyter-widgets/base",
       "_view_module_version": "1.2.0",
       "_view_name": "LayoutView",
       "align_content": null,
       "align_items": null,
       "align_self": null,
       "border": null,
       "bottom": null,
       "display": null,
       "flex": null,
       "flex_flow": null,
       "grid_area": null,
       "grid_auto_columns": null,
       "grid_auto_flow": null,
       "grid_auto_rows": null,
       "grid_column": null,
       "grid_gap": null,
       "grid_row": null,
       "grid_template_areas": null,
       "grid_template_columns": null,
       "grid_template_rows": null,
       "height": null,
       "justify_content": null,
       "justify_items": null,
       "left": null,
       "margin": null,
       "max_height": null,
       "max_width": null,
       "min_height": null,
       "min_width": null,
       "object_fit": null,
       "object_position": null,
       "order": null,
       "overflow": null,
       "overflow_x": null,
       "overflow_y": null,
       "padding": null,
       "right": null,
       "top": null,
       "visibility": null,
       "width": null
      }
     },
     "20e93afb91e144bc90f42f5c17ae7b22": {
      "model_module": "@jupyter-widgets/base",
      "model_module_version": "1.2.0",
      "model_name": "LayoutModel",
      "state": {
       "_model_module": "@jupyter-widgets/base",
       "_model_module_version": "1.2.0",
       "_model_name": "LayoutModel",
       "_view_count": null,
       "_view_module": "@jupyter-widgets/base",
       "_view_module_version": "1.2.0",
       "_view_name": "LayoutView",
       "align_content": null,
       "align_items": null,
       "align_self": null,
       "border": null,
       "bottom": null,
       "display": null,
       "flex": null,
       "flex_flow": null,
       "grid_area": null,
       "grid_auto_columns": null,
       "grid_auto_flow": null,
       "grid_auto_rows": null,
       "grid_column": null,
       "grid_gap": null,
       "grid_row": null,
       "grid_template_areas": null,
       "grid_template_columns": null,
       "grid_template_rows": null,
       "height": null,
       "justify_content": null,
       "justify_items": null,
       "left": null,
       "margin": null,
       "max_height": null,
       "max_width": null,
       "min_height": null,
       "min_width": null,
       "object_fit": null,
       "object_position": null,
       "order": null,
       "overflow": null,
       "overflow_x": null,
       "overflow_y": null,
       "padding": null,
       "right": null,
       "top": null,
       "visibility": null,
       "width": null
      }
     },
     "451fedbc56024c488a5d2adf26ef1adf": {
      "model_module": "@jupyter-widgets/controls",
      "model_module_version": "1.5.0",
      "model_name": "FloatProgressModel",
      "state": {
       "_dom_classes": [],
       "_model_module": "@jupyter-widgets/controls",
       "_model_module_version": "1.5.0",
       "_model_name": "FloatProgressModel",
       "_view_count": null,
       "_view_module": "@jupyter-widgets/controls",
       "_view_module_version": "1.5.0",
       "_view_name": "ProgressView",
       "bar_style": "success",
       "description": "100%",
       "description_tooltip": null,
       "layout": "IPY_MODEL_9523060f0509461f9d992f43e0de07cf",
       "max": 176.0,
       "min": 0.0,
       "orientation": "horizontal",
       "style": "IPY_MODEL_b239fb9c7cc7428f91c80b351f7e12a9",
       "value": 176.0
      }
     },
     "9523060f0509461f9d992f43e0de07cf": {
      "model_module": "@jupyter-widgets/base",
      "model_module_version": "1.2.0",
      "model_name": "LayoutModel",
      "state": {
       "_model_module": "@jupyter-widgets/base",
       "_model_module_version": "1.2.0",
       "_model_name": "LayoutModel",
       "_view_count": null,
       "_view_module": "@jupyter-widgets/base",
       "_view_module_version": "1.2.0",
       "_view_name": "LayoutView",
       "align_content": null,
       "align_items": null,
       "align_self": null,
       "border": null,
       "bottom": null,
       "display": null,
       "flex": null,
       "flex_flow": null,
       "grid_area": null,
       "grid_auto_columns": null,
       "grid_auto_flow": null,
       "grid_auto_rows": null,
       "grid_column": null,
       "grid_gap": null,
       "grid_row": null,
       "grid_template_areas": null,
       "grid_template_columns": null,
       "grid_template_rows": null,
       "height": null,
       "justify_content": null,
       "justify_items": null,
       "left": null,
       "margin": null,
       "max_height": null,
       "max_width": null,
       "min_height": null,
       "min_width": null,
       "object_fit": null,
       "object_position": null,
       "order": null,
       "overflow": null,
       "overflow_x": null,
       "overflow_y": null,
       "padding": null,
       "right": null,
       "top": null,
       "visibility": null,
       "width": null
      }
     },
     "b239fb9c7cc7428f91c80b351f7e12a9": {
      "model_module": "@jupyter-widgets/controls",
      "model_module_version": "1.5.0",
      "model_name": "ProgressStyleModel",
      "state": {
       "_model_module": "@jupyter-widgets/controls",
       "_model_module_version": "1.5.0",
       "_model_name": "ProgressStyleModel",
       "_view_count": null,
       "_view_module": "@jupyter-widgets/base",
       "_view_module_version": "1.2.0",
       "_view_name": "StyleView",
       "bar_color": null,
       "description_width": "initial"
      }
     },
     "c8baa2361f7f40db936dbd7c8464f630": {
      "model_module": "@jupyter-widgets/controls",
      "model_module_version": "1.5.0",
      "model_name": "HBoxModel",
      "state": {
       "_dom_classes": [],
       "_model_module": "@jupyter-widgets/controls",
       "_model_module_version": "1.5.0",
       "_model_name": "HBoxModel",
       "_view_count": null,
       "_view_module": "@jupyter-widgets/controls",
       "_view_module_version": "1.5.0",
       "_view_name": "HBoxView",
       "box_style": "",
       "children": [
        "IPY_MODEL_451fedbc56024c488a5d2adf26ef1adf",
        "IPY_MODEL_d6d957c65a8f441395d04a8bb0fd2c84"
       ],
       "layout": "IPY_MODEL_1a26781343d44fde8ac2faa9f339fe35"
      }
     },
     "d6d957c65a8f441395d04a8bb0fd2c84": {
      "model_module": "@jupyter-widgets/controls",
      "model_module_version": "1.5.0",
      "model_name": "HTMLModel",
      "state": {
       "_dom_classes": [],
       "_model_module": "@jupyter-widgets/controls",
       "_model_module_version": "1.5.0",
       "_model_name": "HTMLModel",
       "_view_count": null,
       "_view_module": "@jupyter-widgets/controls",
       "_view_module_version": "1.5.0",
       "_view_name": "HTMLView",
       "description": "",
       "description_tooltip": null,
       "layout": "IPY_MODEL_20e93afb91e144bc90f42f5c17ae7b22",
       "placeholder": "​",
       "style": "IPY_MODEL_feb8bbffcfd9416381e148349f4c14c1",
       "value": " 176/176 [00:01&lt;00:00, 138.14it/s]"
      }
     },
     "feb8bbffcfd9416381e148349f4c14c1": {
      "model_module": "@jupyter-widgets/controls",
      "model_module_version": "1.5.0",
      "model_name": "DescriptionStyleModel",
      "state": {
       "_model_module": "@jupyter-widgets/controls",
       "_model_module_version": "1.5.0",
       "_model_name": "DescriptionStyleModel",
       "_view_count": null,
       "_view_module": "@jupyter-widgets/base",
       "_view_module_version": "1.2.0",
       "_view_name": "StyleView",
       "description_width": ""
      }
     }
    },
    "version_major": 2,
    "version_minor": 0
   }
  }
 },
 "nbformat": 4,
 "nbformat_minor": 4
}
