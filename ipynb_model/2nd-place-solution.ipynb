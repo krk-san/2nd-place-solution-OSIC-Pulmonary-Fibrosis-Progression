{
 "cells": [
  {
   "cell_type": "markdown",
   "metadata": {
    "papermill": {
     "duration": 0.020117,
     "end_time": "2021-01-11T07:11:49.881976",
     "exception": false,
     "start_time": "2021-01-11T07:11:49.861859",
     "status": "completed"
    },
    "tags": []
   },
   "source": [
    "# About\n",
    "This notebook is the 2nd place solution, which is a slightly modified version.　In this notebook, I predict FVC with EfficientNets B3 and Quantile Regression. The final submission score is as follows.\n",
    "\n",
    "Private Score: -6.8311\n",
    "Public  Score: -6.8866"
   ]
  },
  {
   "cell_type": "markdown",
   "metadata": {
    "papermill": {
     "duration": 0.019523,
     "end_time": "2021-01-11T07:11:49.920584",
     "exception": false,
     "start_time": "2021-01-11T07:11:49.901061",
     "status": "completed"
    },
    "tags": []
   },
   "source": [
    "# Setting"
   ]
  },
  {
   "cell_type": "code",
   "execution_count": 1,
   "metadata": {
    "execution": {
     "iopub.execute_input": "2021-01-11T07:11:49.969117Z",
     "iopub.status.busy": "2021-01-11T07:11:49.968336Z",
     "iopub.status.idle": "2021-01-11T07:12:10.756987Z",
     "shell.execute_reply": "2021-01-11T07:12:10.755975Z"
    },
    "papermill": {
     "duration": 20.816751,
     "end_time": "2021-01-11T07:12:10.757131",
     "exception": false,
     "start_time": "2021-01-11T07:11:49.940380",
     "status": "completed"
    },
    "tags": []
   },
   "outputs": [
    {
     "name": "stdout",
     "output_type": "stream",
     "text": [
      "Looking in links: ./\r\n",
      "Processing /kaggle/input/kerasapplications/keras-team-keras-applications-3b180cb\r\n",
      "Requirement already satisfied: numpy>=1.9.1 in /opt/conda/lib/python3.7/site-packages (from Keras-Applications==1.0.8) (1.18.5)\r\n",
      "Requirement already satisfied: h5py in /opt/conda/lib/python3.7/site-packages (from Keras-Applications==1.0.8) (2.10.0)\r\n",
      "Requirement already satisfied: numpy>=1.9.1 in /opt/conda/lib/python3.7/site-packages (from Keras-Applications==1.0.8) (1.18.5)\r\n",
      "Requirement already satisfied: six in /opt/conda/lib/python3.7/site-packages (from h5py->Keras-Applications==1.0.8) (1.14.0)\r\n",
      "Building wheels for collected packages: Keras-Applications\r\n",
      "  Building wheel for Keras-Applications (setup.py) ... \u001b[?25l-\b \b\\\b \bdone\r\n",
      "\u001b[?25h  Created wheel for Keras-Applications: filename=Keras_Applications-1.0.8-py3-none-any.whl size=50704 sha256=3c03b24bc1311a0d0cecee2275db3ee36937ed2945b6b80e5133295268dc21dd\r\n",
      "  Stored in directory: /root/.cache/pip/wheels/f4/96/13/eccdd9391bd8df958d78851b98ec4dc207ba05b67b011eb70a\r\n",
      "Successfully built Keras-Applications\r\n",
      "Installing collected packages: Keras-Applications\r\n",
      "Successfully installed Keras-Applications-1.0.8\r\n",
      "Looking in links: ./\r\n",
      "Processing /kaggle/input/efficientnet/efficientnet-1.1.0\r\n",
      "Requirement already satisfied: keras_applications<=1.0.8,>=1.0.7 in /opt/conda/lib/python3.7/site-packages (from efficientnet==1.1.0) (1.0.8)\r\n",
      "Requirement already satisfied: scikit-image in /opt/conda/lib/python3.7/site-packages (from efficientnet==1.1.0) (0.16.2)\r\n",
      "Requirement already satisfied: h5py in /opt/conda/lib/python3.7/site-packages (from keras_applications<=1.0.8,>=1.0.7->efficientnet==1.1.0) (2.10.0)\r\n",
      "Requirement already satisfied: numpy>=1.9.1 in /opt/conda/lib/python3.7/site-packages (from keras_applications<=1.0.8,>=1.0.7->efficientnet==1.1.0) (1.18.5)\r\n",
      "Requirement already satisfied: numpy>=1.9.1 in /opt/conda/lib/python3.7/site-packages (from keras_applications<=1.0.8,>=1.0.7->efficientnet==1.1.0) (1.18.5)\r\n",
      "Requirement already satisfied: six in /opt/conda/lib/python3.7/site-packages (from h5py->keras_applications<=1.0.8,>=1.0.7->efficientnet==1.1.0) (1.14.0)\r\n",
      "Requirement already satisfied: scipy>=0.19.0 in /opt/conda/lib/python3.7/site-packages (from scikit-image->efficientnet==1.1.0) (1.4.1)\r\n",
      "Requirement already satisfied: matplotlib!=3.0.0,>=2.0.0 in /opt/conda/lib/python3.7/site-packages (from scikit-image->efficientnet==1.1.0) (3.2.1)\r\n",
      "Requirement already satisfied: networkx>=2.0 in /opt/conda/lib/python3.7/site-packages (from scikit-image->efficientnet==1.1.0) (2.4)\r\n",
      "Requirement already satisfied: pillow>=4.3.0 in /opt/conda/lib/python3.7/site-packages (from scikit-image->efficientnet==1.1.0) (8.0.1)\r\n",
      "Requirement already satisfied: imageio>=2.3.0 in /opt/conda/lib/python3.7/site-packages (from scikit-image->efficientnet==1.1.0) (2.8.0)\r\n",
      "Requirement already satisfied: PyWavelets>=0.4.0 in /opt/conda/lib/python3.7/site-packages (from scikit-image->efficientnet==1.1.0) (1.1.1)\r\n",
      "Requirement already satisfied: pillow>=4.3.0 in /opt/conda/lib/python3.7/site-packages (from scikit-image->efficientnet==1.1.0) (8.0.1)\r\n",
      "Requirement already satisfied: numpy>=1.9.1 in /opt/conda/lib/python3.7/site-packages (from keras_applications<=1.0.8,>=1.0.7->efficientnet==1.1.0) (1.18.5)\r\n",
      "Requirement already satisfied: cycler>=0.10 in /opt/conda/lib/python3.7/site-packages (from matplotlib!=3.0.0,>=2.0.0->scikit-image->efficientnet==1.1.0) (0.10.0)\r\n",
      "Requirement already satisfied: kiwisolver>=1.0.1 in /opt/conda/lib/python3.7/site-packages (from matplotlib!=3.0.0,>=2.0.0->scikit-image->efficientnet==1.1.0) (1.2.0)\r\n",
      "Requirement already satisfied: numpy>=1.9.1 in /opt/conda/lib/python3.7/site-packages (from keras_applications<=1.0.8,>=1.0.7->efficientnet==1.1.0) (1.18.5)\r\n",
      "Requirement already satisfied: python-dateutil>=2.1 in /opt/conda/lib/python3.7/site-packages (from matplotlib!=3.0.0,>=2.0.0->scikit-image->efficientnet==1.1.0) (2.8.1)\r\n",
      "Requirement already satisfied: pyparsing!=2.0.4,!=2.1.2,!=2.1.6,>=2.0.1 in /opt/conda/lib/python3.7/site-packages (from matplotlib!=3.0.0,>=2.0.0->scikit-image->efficientnet==1.1.0) (2.4.7)\r\n",
      "Requirement already satisfied: six in /opt/conda/lib/python3.7/site-packages (from h5py->keras_applications<=1.0.8,>=1.0.7->efficientnet==1.1.0) (1.14.0)\r\n",
      "Requirement already satisfied: decorator>=4.3.0 in /opt/conda/lib/python3.7/site-packages (from networkx>=2.0->scikit-image->efficientnet==1.1.0) (4.4.2)\r\n",
      "Requirement already satisfied: six in /opt/conda/lib/python3.7/site-packages (from h5py->keras_applications<=1.0.8,>=1.0.7->efficientnet==1.1.0) (1.14.0)\r\n",
      "Requirement already satisfied: numpy>=1.9.1 in /opt/conda/lib/python3.7/site-packages (from keras_applications<=1.0.8,>=1.0.7->efficientnet==1.1.0) (1.18.5)\r\n",
      "Requirement already satisfied: numpy>=1.9.1 in /opt/conda/lib/python3.7/site-packages (from keras_applications<=1.0.8,>=1.0.7->efficientnet==1.1.0) (1.18.5)\r\n",
      "Building wheels for collected packages: efficientnet\r\n",
      "  Building wheel for efficientnet (setup.py) ... \u001b[?25l-\b \b\\\b \bdone\r\n",
      "\u001b[?25h  Created wheel for efficientnet: filename=efficientnet-1.1.0-py3-none-any.whl size=14141 sha256=1ca432a18d638d1df341ef61e73bd547c63fb79ff8b0cbb54f03088cb715683d\r\n",
      "  Stored in directory: /root/.cache/pip/wheels/24/f5/31/3cc20871288fe532128224a3f5af7b4d67efb9835bd5683522\r\n",
      "Successfully built efficientnet\r\n",
      "Installing collected packages: efficientnet\r\n",
      "Successfully installed efficientnet-1.1.0\r\n"
     ]
    }
   ],
   "source": [
    "!pip install ../input/kerasapplications/keras-team-keras-applications-3b180cb -f ./ --no-index\n",
    "!pip install ../input/efficientnet/efficientnet-1.1.0/ -f ./ --no-index"
   ]
  },
  {
   "cell_type": "code",
   "execution_count": 2,
   "metadata": {
    "_cell_guid": "b1076dfc-b9ad-4769-8c92-a6c4dae69d19",
    "_uuid": "8f2839f25d086af736a60e9eeb907d3b93b6e0e5",
    "execution": {
     "iopub.execute_input": "2021-01-11T07:12:10.825891Z",
     "iopub.status.busy": "2021-01-11T07:12:10.824944Z",
     "iopub.status.idle": "2021-01-11T07:12:19.160640Z",
     "shell.execute_reply": "2021-01-11T07:12:19.159408Z"
    },
    "papermill": {
     "duration": 8.375646,
     "end_time": "2021-01-11T07:12:19.160772",
     "exception": false,
     "start_time": "2021-01-11T07:12:10.785126",
     "status": "completed"
    },
    "tags": []
   },
   "outputs": [],
   "source": [
    "# Import Libraries\n",
    "import os\n",
    "import numpy as np\n",
    "import pandas as pd\n",
    "import random\n",
    "\n",
    "import cv2\n",
    "import pydicom\n",
    "\n",
    "from tqdm.notebook import tqdm\n",
    "from plotnine import *\n",
    "from sklearn.linear_model import LinearRegression\n",
    "from sklearn.model_selection import train_test_split\n",
    "from sklearn.model_selection import StratifiedKFold\n",
    "from sklearn.cluster import KMeans\n",
    "from sklearn.metrics import mean_absolute_error\n",
    "\n",
    "import matplotlib.pyplot as plt\n",
    "\n",
    "import warnings\n",
    "warnings.simplefilter('ignore')\n",
    "\n",
    "import tensorflow as tf\n",
    "from tensorflow.keras.utils import Sequence\n",
    "from tensorflow.keras.layers import (\n",
    "    Dense, Dropout, Activation, Flatten, Input, BatchNormalization, GlobalAveragePooling2D, Add, Conv2D, AveragePooling2D, \n",
    "    LeakyReLU, Concatenate \n",
    ")\n",
    "import efficientnet.tfkeras as efn\n",
    "\n",
    "from tensorflow.keras import Model\n",
    "import tensorflow.keras.backend as K\n",
    "import tensorflow.keras.layers as L\n",
    "import tensorflow.keras.models as M\n",
    "from tensorflow.keras.callbacks import ModelCheckpoint\n",
    "from keras.callbacks import EarlyStopping\n",
    "\n",
    "import json\n",
    "import gc"
   ]
  },
  {
   "cell_type": "code",
   "execution_count": 3,
   "metadata": {
    "execution": {
     "iopub.execute_input": "2021-01-11T07:12:19.224843Z",
     "iopub.status.busy": "2021-01-11T07:12:19.223052Z",
     "iopub.status.idle": "2021-01-11T07:12:19.225704Z",
     "shell.execute_reply": "2021-01-11T07:12:19.226192Z"
    },
    "papermill": {
     "duration": 0.036457,
     "end_time": "2021-01-11T07:12:19.226305",
     "exception": false,
     "start_time": "2021-01-11T07:12:19.189848",
     "status": "completed"
    },
    "tags": []
   },
   "outputs": [],
   "source": [
    "# Setting Seeds\n",
    "def seed_everything(seed=2020):\n",
    "    random.seed(seed)\n",
    "    os.environ['PYTHONHASHSEED'] = str(seed)\n",
    "    np.random.seed(seed)\n",
    "    tf.random.set_seed(seed)\n",
    "\n",
    "    \n",
    "seed_everything(42)"
   ]
  },
  {
   "cell_type": "code",
   "execution_count": 4,
   "metadata": {
    "execution": {
     "iopub.execute_input": "2021-01-11T07:12:19.286158Z",
     "iopub.status.busy": "2021-01-11T07:12:19.285455Z",
     "iopub.status.idle": "2021-01-11T07:12:21.691931Z",
     "shell.execute_reply": "2021-01-11T07:12:21.691209Z"
    },
    "papermill": {
     "duration": 2.438383,
     "end_time": "2021-01-11T07:12:21.692082",
     "exception": false,
     "start_time": "2021-01-11T07:12:19.253699",
     "status": "completed"
    },
    "tags": []
   },
   "outputs": [],
   "source": [
    "# Setting TensorFlow\n",
    "config = tf.compat.v1.ConfigProto()\n",
    "config.gpu_options.allow_growth = True\n",
    "session = tf.compat.v1.Session(config=config)"
   ]
  },
  {
   "cell_type": "code",
   "execution_count": 5,
   "metadata": {
    "execution": {
     "iopub.execute_input": "2021-01-11T07:12:21.753875Z",
     "iopub.status.busy": "2021-01-11T07:12:21.753156Z",
     "iopub.status.idle": "2021-01-11T07:12:21.766633Z",
     "shell.execute_reply": "2021-01-11T07:12:21.767344Z"
    },
    "papermill": {
     "duration": 0.04651,
     "end_time": "2021-01-11T07:12:21.767505",
     "exception": false,
     "start_time": "2021-01-11T07:12:21.720995",
     "status": "completed"
    },
    "tags": []
   },
   "outputs": [
    {
     "name": "stdout",
     "output_type": "stream",
     "text": [
      "{'PATH': {'ROOT': '../input/', 'TRAIN_CSV_PATH': '../input/osic-pulmonary-fibrosis-progression/train.csv', 'TEST_CSV_PATH': '../input/osic-pulmonary-fibrosis-progression/test.csv', 'SAMPLESUB_CSV_PATH': '../input/osic-pulmonary-fibrosis-progression/sample_submission.csv', 'TRAIN_DATA_DIR': '../input/osic-pulmonary-fibrosis-progression/train/', 'TEST_DATA_DIR': '../input/osic-pulmonary-fibrosis-progression/test/', 'MASK_NOISE_DIR': '../input/osic-pulmonary-fibrosis-progression-lungs-mask/mask_noise/mask_noise/', 'TRAIN_MODEL_WEIGHTS_DIR': '../input/training-osic-2nd-place-code/'}, 'PARAMS': {'MODELS_EFF': [0], 'WEIGHT_EFF': 0.2, 'NFOLDS': 4, 'BATCH_SIZE': 128, 'EPOCHS': 300, 'EARLY_STOPPING': 150, 'NUM_LAST_FVC': 2, 'QS1': 0.2, 'QS2': 0.5, 'QS3': 0.8}, 'PARAMS_TRAIN_EFF': {'EPOCHS': 50, 'BATCH_SIZE': 8, 'NFOLDS': 5, 'LR': 0.003, 'MODEL_CLASS': 'b3'}, 'FEATURES': ['Sex_Female', 'Sex_Male', 'SmokingStatus_Currently smokes', 'SmokingStatus_Ex-smoker', 'SmokingStatus_Never smoked', 'age', 'percent', 'week', 'min_fvc']}\n"
     ]
    }
   ],
   "source": [
    "# Load Setting File\n",
    "json_open = open('../input/settings/settings.json')\n",
    "SETTINGS = json.load(json_open)\n",
    "\n",
    "PATH = SETTINGS['PATH']\n",
    "PARAMS = SETTINGS['PARAMS']\n",
    "FEATURES = SETTINGS['FEATURES']\n",
    "\n",
    "print(SETTINGS)"
   ]
  },
  {
   "cell_type": "markdown",
   "metadata": {
    "papermill": {
     "duration": 0.028115,
     "end_time": "2021-01-11T07:12:21.824609",
     "exception": false,
     "start_time": "2021-01-11T07:12:21.796494",
     "status": "completed"
    },
    "tags": []
   },
   "source": [
    "# EfficientNet-B3\n",
    "## Preprocess\n",
    "### Feature Engineering"
   ]
  },
  {
   "cell_type": "code",
   "execution_count": 6,
   "metadata": {
    "execution": {
     "iopub.execute_input": "2021-01-11T07:12:21.895433Z",
     "iopub.status.busy": "2021-01-11T07:12:21.893023Z",
     "iopub.status.idle": "2021-01-11T07:12:22.392172Z",
     "shell.execute_reply": "2021-01-11T07:12:22.393094Z"
    },
    "papermill": {
     "duration": 0.540726,
     "end_time": "2021-01-11T07:12:22.393309",
     "exception": false,
     "start_time": "2021-01-11T07:12:21.852583",
     "status": "completed"
    },
    "tags": []
   },
   "outputs": [
    {
     "data": {
      "application/vnd.jupyter.widget-view+json": {
       "model_id": "e7530bc3c03b428f99f531fd227357c5",
       "version_major": 2,
       "version_minor": 0
      },
      "text/plain": [
       "HBox(children=(FloatProgress(value=1.0, bar_style='info', max=1.0), HTML(value='')))"
      ]
     },
     "metadata": {},
     "output_type": "display_data"
    },
    {
     "name": "stdout",
     "output_type": "stream",
     "text": [
      "\n"
     ]
    }
   ],
   "source": [
    "# Load Train Data\n",
    "train = pd.read_csv(PATH[\"TRAIN_CSV_PATH\"]) \n",
    "\n",
    "\n",
    "# Get Tabular Data\n",
    "def get_tab(df):\n",
    "    vector = [(df.Age.values[0] - 30) / 30] \n",
    "    \n",
    "    if df.Sex.values[0] == 'male':\n",
    "       vector.append(0)\n",
    "    else:\n",
    "       vector.append(1)\n",
    "    \n",
    "    if df.SmokingStatus.values[0] == 'Never smoked':\n",
    "        vector.extend([0,0])\n",
    "    elif df.SmokingStatus.values[0] == 'Ex-smoker':\n",
    "        vector.extend([1,1])\n",
    "    elif df.SmokingStatus.values[0] == 'Currently smokes':\n",
    "        vector.extend([0,1])\n",
    "    else:\n",
    "        vector.extend([1,0])\n",
    "    return np.array(vector) \n",
    "\n",
    "\n",
    "A = {} \n",
    "TAB = {} \n",
    "P = [] \n",
    "for i, p in tqdm(enumerate(train['Patient'].unique())):\n",
    "    sub = train.loc[train['Patient'] == p, :] \n",
    "    fvc = sub['FVC'].values\n",
    "    weeks = sub['Weeks'].values\n",
    "    c = np.vstack([weeks, np.ones(len(weeks))]).T\n",
    "    a, b = np.linalg.lstsq(c, fvc)[0]\n",
    "    \n",
    "    A[p] = a\n",
    "    TAB[p] = get_tab(sub)\n",
    "    P.append(p)"
   ]
  },
  {
   "cell_type": "markdown",
   "metadata": {
    "papermill": {
     "duration": 0.039329,
     "end_time": "2021-01-11T07:12:22.466522",
     "exception": false,
     "start_time": "2021-01-11T07:12:22.427193",
     "status": "completed"
    },
    "tags": []
   },
   "source": [
    "## Inference\n",
    "### Define Model"
   ]
  },
  {
   "cell_type": "code",
   "execution_count": 7,
   "metadata": {
    "execution": {
     "iopub.execute_input": "2021-01-11T07:12:22.549215Z",
     "iopub.status.busy": "2021-01-11T07:12:22.548319Z",
     "iopub.status.idle": "2021-01-11T07:12:22.552515Z",
     "shell.execute_reply": "2021-01-11T07:12:22.552011Z"
    },
    "papermill": {
     "duration": 0.053233,
     "end_time": "2021-01-11T07:12:22.552650",
     "exception": false,
     "start_time": "2021-01-11T07:12:22.499417",
     "status": "completed"
    },
    "tags": []
   },
   "outputs": [],
   "source": [
    "# Metric\n",
    "def score(fvc_true, fvc_pred, sigma):\n",
    "    sigma_clip = np.maximum(sigma, 70)\n",
    "    delta = np.abs(fvc_true - fvc_pred)\n",
    "    delta = np.minimum(delta, 1000)\n",
    "    sq2 = np.sqrt(2)\n",
    "    metric = (delta / sigma_clip)*sq2 + np.log(sigma_clip* sq2)\n",
    "    return np.mean(metric)\n",
    "\n",
    "\n",
    "# Get Image Data\n",
    "def get_img(path):\n",
    "    d = pydicom.dcmread(path)\n",
    "    return cv2.resize(d.pixel_array / 2**11, (512, 512))\n",
    "\n",
    "\n",
    "# Load Data\n",
    "class IGenerator(Sequence):\n",
    "    BAD_ID = ['ID00011637202177653955184', 'ID00052637202186188008618']\n",
    "    def __init__(self, keys, a, tab, batch_size=32):\n",
    "        self.keys = [k for k in keys if k not in self.BAD_ID]\n",
    "        self.a = a\n",
    "        self.tab = tab\n",
    "        self.batch_size = batch_size\n",
    "        \n",
    "        self.train_data = {}\n",
    "        for p in train['Patient'].values:\n",
    "            self.train_data[p] = os.listdir(f'{PATH[\"TRAIN_DATA_DIR\"]}{p}/')\n",
    "    \n",
    "    def __len__(self):\n",
    "        return 1000\n",
    "    \n",
    "    def __getitem__(self, idx):\n",
    "        x = []\n",
    "        a, tab = [], [] \n",
    "        keys = np.random.choice(self.keys, size = self.batch_size)\n",
    "        for k in keys:\n",
    "            try:\n",
    "                i = np.random.choice(self.train_data[k], size=1)[0]\n",
    "                img = get_img(f'{PATH[\"TRAIN_DATA_DIR\"]}{k}/{i}')\n",
    "                x.append(img)\n",
    "                a.append(self.a[k])\n",
    "                tab.append(self.tab[k])\n",
    "            except:\n",
    "                print(k, i)\n",
    "       \n",
    "        x,a,tab = np.array(x), np.array(a), np.array(tab)\n",
    "        x = np.expand_dims(x, axis=-1)\n",
    "        return [x, tab] , a"
   ]
  },
  {
   "cell_type": "code",
   "execution_count": 8,
   "metadata": {
    "execution": {
     "iopub.execute_input": "2021-01-11T07:12:22.628125Z",
     "iopub.status.busy": "2021-01-11T07:12:22.624121Z",
     "iopub.status.idle": "2021-01-11T07:13:00.175434Z",
     "shell.execute_reply": "2021-01-11T07:13:00.176168Z"
    },
    "papermill": {
     "duration": 37.594269,
     "end_time": "2021-01-11T07:13:00.176322",
     "exception": false,
     "start_time": "2021-01-11T07:12:22.582053",
     "status": "completed"
    },
    "tags": []
   },
   "outputs": [
    {
     "name": "stdout",
     "output_type": "stream",
     "text": [
      "Number of models: 1\n"
     ]
    }
   ],
   "source": [
    "# Make Model\n",
    "def get_efficientnet(model, shape):\n",
    "    models_dict = {\n",
    "        'b0': efn.EfficientNetB0(input_shape=shape,weights=None,include_top=False),\n",
    "        'b1': efn.EfficientNetB1(input_shape=shape,weights=None,include_top=False),\n",
    "        'b2': efn.EfficientNetB2(input_shape=shape,weights=None,include_top=False),\n",
    "        'b3': efn.EfficientNetB3(input_shape=shape,weights=None,include_top=False),\n",
    "        'b4': efn.EfficientNetB4(input_shape=shape,weights=None,include_top=False),\n",
    "        'b5': efn.EfficientNetB5(input_shape=shape,weights=None,include_top=False),\n",
    "        'b6': efn.EfficientNetB6(input_shape=shape,weights=None,include_top=False),\n",
    "        'b7': efn.EfficientNetB7(input_shape=shape,weights=None,include_top=False)\n",
    "    }\n",
    "    return models_dict[model]\n",
    "\n",
    "\n",
    "def build_model(shape=(512, 512, 1), model_class=None, fold=0):\n",
    "    inp = Input(shape=shape)\n",
    "    base = get_efficientnet(model_class, shape)\n",
    "    x = base(inp)\n",
    "    x = GlobalAveragePooling2D()(x)\n",
    "    inp2 = Input(shape=(4,))\n",
    "    x2 = tf.keras.layers.GaussianNoise(0.2)(inp2)\n",
    "    x = Concatenate()([x, x2]) \n",
    "    x = Dropout(0.5)(x) \n",
    "    x = Dense(1)(x)\n",
    "    model = Model([inp, inp2] , x)\n",
    "    \n",
    "    weights = \"fold-\" + str(fold) + \".h5\"\n",
    "    model.load_weights(PATH[\"TRAIN_MODEL_WEIGHTS_DIR\"] + weights)\n",
    "    return model\n",
    "\n",
    "\n",
    "models = [build_model(shape=(512, 512, 1), model_class='b3', fold=i) for i in PARAMS['MODELS_EFF']]\n",
    "print('Number of models: ' + str(len(models)))"
   ]
  },
  {
   "cell_type": "markdown",
   "metadata": {
    "papermill": {
     "duration": 0.027661,
     "end_time": "2021-01-11T07:13:00.233380",
     "exception": false,
     "start_time": "2021-01-11T07:13:00.205719",
     "status": "completed"
    },
    "tags": []
   },
   "source": [
    "### Predict"
   ]
  },
  {
   "cell_type": "code",
   "execution_count": 9,
   "metadata": {
    "execution": {
     "iopub.execute_input": "2021-01-11T07:13:00.322400Z",
     "iopub.status.busy": "2021-01-11T07:13:00.303650Z",
     "iopub.status.idle": "2021-01-11T07:24:44.988596Z",
     "shell.execute_reply": "2021-01-11T07:24:44.989650Z"
    },
    "papermill": {
     "duration": 704.727765,
     "end_time": "2021-01-11T07:24:44.989852",
     "exception": false,
     "start_time": "2021-01-11T07:13:00.262087",
     "status": "completed"
    },
    "tags": []
   },
   "outputs": [
    {
     "data": {
      "application/vnd.jupyter.widget-view+json": {
       "model_id": "6a39e94e9b124a0b852079ad825f50cf",
       "version_major": 2,
       "version_minor": 0
      },
      "text/plain": [
       "HBox(children=(FloatProgress(value=0.0, max=9.0), HTML(value='')))"
      ]
     },
     "metadata": {},
     "output_type": "display_data"
    },
    {
     "name": "stdout",
     "output_type": "stream",
     "text": [
      "6.743880627526683\n",
      "6.743880431141242\n",
      "6.7438812867561815\n",
      "6.743882403913062\n",
      "6.743883844602182\n",
      "6.743886296749025\n",
      "6.743888407940562\n",
      "6.74388824565989\n",
      "6.743902975790736\n",
      "\n"
     ]
    }
   ],
   "source": [
    "# Predict with Each Fold\n",
    "tr_p, vl_p = train_test_split(P, shuffle=True, train_size = 0.8) \n",
    "subs = []\n",
    "for model in models:\n",
    "    metric = []\n",
    "    for q in tqdm(range(1, 10)):\n",
    "        m = []\n",
    "        for p in vl_p:\n",
    "            x = [] \n",
    "            tab = [] \n",
    "\n",
    "            if p in ['ID00011637202177653955184', 'ID00052637202186188008618']:\n",
    "                continue\n",
    "\n",
    "            ldir = os.listdir(f'{PATH[\"TRAIN_DATA_DIR\"]}{p}/')\n",
    "            for i in ldir:\n",
    "                if int(i[:-4]) / len(ldir) < 0.8 and int(i[:-4]) / len(ldir) > 0.15:\n",
    "                    x.append(get_img(f'{PATH[\"TRAIN_DATA_DIR\"]}{p}/{i}')) \n",
    "                    tab.append(get_tab(train.loc[train.Patient == p, :])) \n",
    "            if len(x) < 1:\n",
    "                continue\n",
    "            tab = np.array(tab) \n",
    "\n",
    "            x = np.expand_dims(x, axis=-1) \n",
    "            _a = model.predict([x, tab]) \n",
    "            a = np.quantile(_a, q / 10)\n",
    "\n",
    "            percent_true = train.Percent.values[train.Patient == p]\n",
    "            fvc_true = train.FVC.values[train.Patient == p]\n",
    "            weeks_true = train.Weeks.values[train.Patient == p]\n",
    "\n",
    "            fvc = a * (weeks_true - weeks_true[0]) + fvc_true[0]\n",
    "            percent = percent_true[0] - a * abs(weeks_true - weeks_true[0])\n",
    "            m.append(score(fvc_true, fvc, percent))\n",
    "        print(np.mean(m))\n",
    "        metric.append(np.mean(m))\n",
    "\n",
    "    q = (np.argmin(metric) + 1)/ 10\n",
    "\n",
    "    sub = pd.read_csv(PATH[\"SAMPLESUB_CSV_PATH\"]) \n",
    "    test = pd.read_csv(PATH[\"TEST_CSV_PATH\"]) \n",
    "    A_test, B_test, P_test,W, FVC= {}, {}, {},{},{} \n",
    "    STD, WEEK = {}, {} \n",
    "    for p in test.Patient.unique():\n",
    "        x = [] \n",
    "        tab = [] \n",
    "        ldir = os.listdir(f'{PATH[\"TEST_DATA_DIR\"]}{p}/')\n",
    "        for i in ldir:\n",
    "            if int(i[:-4]) / len(ldir) < 0.8 and int(i[:-4]) / len(ldir) > 0.15:\n",
    "                x.append(get_img(f'{PATH[\"TEST_DATA_DIR\"]}{p}/{i}')) \n",
    "                tab.append(get_tab(test.loc[test.Patient == p, :])) \n",
    "        if len(x) <= 1:\n",
    "            continue\n",
    "        tab = np.array(tab) \n",
    "\n",
    "        x = np.expand_dims(x, axis=-1) \n",
    "        _a = model.predict([x, tab]) \n",
    "        a = np.quantile(_a, q)\n",
    "        A_test[p] = a\n",
    "        B_test[p] = test.FVC.values[test.Patient == p] - a*test.Weeks.values[test.Patient == p]\n",
    "        P_test[p] = test.Percent.values[test.Patient == p] \n",
    "        WEEK[p] = test.Weeks.values[test.Patient == p]\n",
    "\n",
    "    for k in sub.Patient_Week.values:\n",
    "        p, w = k.split('_')\n",
    "        w = int(w) \n",
    "\n",
    "        fvc = A_test[p] * w + B_test[p]\n",
    "        sub.loc[sub.Patient_Week == k, 'FVC'] = fvc\n",
    "        sub.loc[sub.Patient_Week == k, 'Confidence'] = (\n",
    "            P_test[p] - A_test[p] * abs(WEEK[p] - w) \n",
    "    ) \n",
    "\n",
    "    _sub = sub[[\"Patient_Week\",\"FVC\",\"Confidence\"]].copy()\n",
    "    subs.append(_sub)"
   ]
  },
  {
   "cell_type": "markdown",
   "metadata": {
    "papermill": {
     "duration": 0.048057,
     "end_time": "2021-01-11T07:24:45.091145",
     "exception": false,
     "start_time": "2021-01-11T07:24:45.043088",
     "status": "completed"
    },
    "tags": []
   },
   "source": [
    "## Make Submission"
   ]
  },
  {
   "cell_type": "code",
   "execution_count": 10,
   "metadata": {
    "execution": {
     "iopub.execute_input": "2021-01-11T07:24:45.200922Z",
     "iopub.status.busy": "2021-01-11T07:24:45.200007Z",
     "iopub.status.idle": "2021-01-11T07:24:45.614457Z",
     "shell.execute_reply": "2021-01-11T07:24:45.614998Z"
    },
    "papermill": {
     "duration": 0.473312,
     "end_time": "2021-01-11T07:24:45.615136",
     "exception": false,
     "start_time": "2021-01-11T07:24:45.141824",
     "status": "completed"
    },
    "tags": []
   },
   "outputs": [
    {
     "name": "stdout",
     "output_type": "stream",
     "text": [
      "                    Patient_Week          FVC  Confidence\n",
      "0   ID00419637202311204720264_-1  3047.519632   97.706487\n",
      "1  ID00419637202311204720264_-10  3082.902016  133.088871\n",
      "2  ID00419637202311204720264_-11  3086.833392  137.020247\n",
      "3  ID00419637202311204720264_-12  3090.764768  140.951623\n",
      "4   ID00419637202311204720264_-2  3051.451008  101.637863\n"
     ]
    }
   ],
   "source": [
    "N = len(subs)\n",
    "sub_eff = subs[0].copy() # ref\n",
    "sub_eff[\"FVC\"] = 0\n",
    "sub_eff[\"Confidence\"] = 0\n",
    "for i in range(N):\n",
    "    sub_eff[\"FVC\"] += subs[0][\"FVC\"] * (1/N)\n",
    "    sub_eff[\"Confidence\"] += subs[0][\"Confidence\"] * (1/N)\n",
    "    \n",
    "sub_eff = sub_eff.sort_values(by=['Patient_Week'], ascending=True).reset_index(drop=True)\n",
    "sub_eff.to_csv('submission_eff.csv', index=False)\n",
    "print(sub_eff.head())"
   ]
  },
  {
   "cell_type": "markdown",
   "metadata": {
    "papermill": {
     "duration": 0.03143,
     "end_time": "2021-01-11T07:24:45.678083",
     "exception": false,
     "start_time": "2021-01-11T07:24:45.646653",
     "status": "completed"
    },
    "tags": []
   },
   "source": [
    "# Quantile Regression\n",
    "## Preprocessing\n",
    "### Feature Engineering"
   ]
  },
  {
   "cell_type": "code",
   "execution_count": 11,
   "metadata": {
    "_cell_guid": "79c7e3d0-c299-4dcb-8224-4455121ee9b0",
    "_uuid": "d629ff2d2480ee46fbb7e2d37f6b5fab8052498a",
    "execution": {
     "iopub.execute_input": "2021-01-11T07:24:45.784033Z",
     "iopub.status.busy": "2021-01-11T07:24:45.779613Z",
     "iopub.status.idle": "2021-01-11T07:24:47.205186Z",
     "shell.execute_reply": "2021-01-11T07:24:47.204654Z"
    },
    "papermill": {
     "duration": 1.483531,
     "end_time": "2021-01-11T07:24:47.205303",
     "exception": false,
     "start_time": "2021-01-11T07:24:45.721772",
     "status": "completed"
    },
    "tags": []
   },
   "outputs": [],
   "source": [
    "# Load Train Data\n",
    "train_df = pd.read_csv(PATH['TRAIN_CSV_PATH'])\n",
    "train_df.drop_duplicates(keep=False, inplace=True, subset=['Patient', 'Weeks'])\n",
    "\n",
    "# Load Test Data\n",
    "test_df = pd.read_csv(PATH['TEST_CSV_PATH'])\n",
    "sub_df = pd.read_csv(PATH['SAMPLESUB_CSV_PATH'], usecols = ['Patient_Week', 'Confidence'])\n",
    "sub_df[['Patient', 'Weeks']] = sub_df['Patient_Week'].apply(lambda x: pd.Series([x.split('_')[0], int(x.split('_')[-1])]))\n",
    "sub_df = sub_df.merge(test_df.drop('Weeks', axis=1), on='Patient')\n",
    "\n",
    "train_df['data'] = 'train'\n",
    "test_df['data'] = 'test'\n",
    "sub_df['data'] = 'sub'\n",
    "\n",
    "# Recalculate 'Weeks'\n",
    "data = train_df.append([test_df, sub_df])\n",
    "data['min_week'] = data['Weeks']\n",
    "data.loc[data['data'] == 'sub', 'min_week'] = np.nan\n",
    "data['min_week'] = data.groupby('Patient')['min_week'].transform('min')\n",
    "data['base_week'] = data['Weeks'] - data['min_week']\n",
    "\n",
    "# Fix 'Percent' and 'FVC' to the initial values\n",
    "data_init = data.loc[data['Weeks'] == data['min_week']][['Patient', 'FVC', 'Percent']]\n",
    "data_init.columns = ['Patient', 'min_FVC', 'min_Percent']\n",
    "data_init['nb'] = 1\n",
    "data_init['nb'] = data_init.groupby('Patient')['nb'].transform('cumsum')\n",
    "data_init = data_init[data_init.nb==1]\n",
    "data = data.merge(data_init, on='Patient', how='left')\n",
    "\n",
    "del test_df, data_init\n",
    "gc.collect()\n",
    "\n",
    "# One-Hot Encoding ('Sex', 'SmokingStatus')\n",
    "FE_CATEGORICAL = ['Sex', 'SmokingStatus']\n",
    "data_categorical = pd.get_dummies(data[FE_CATEGORICAL])\n",
    "data = pd.concat([data, data_categorical], axis=1)\n",
    "\n",
    "del data_categorical\n",
    "gc.collect()\n",
    "\n",
    "# Min-Max Scaler ('Age', 'FVC', 'Weeks', 'Percent')\n",
    "data['age'] = (data['Age'] - data['Age'].min()) / (data['Age'].max() - data['Age'].min())\n",
    "data['min_fvc'] = (data['min_FVC'] - data['min_FVC'].min()) / (data['min_FVC'].max() - data['min_FVC'].min())\n",
    "data['week'] = (data['base_week'] - data['base_week'].min()) / (data['base_week'].max() - data['base_week'].min())\n",
    "data['percent'] = (data['min_Percent'] - data['min_Percent'].min()) / (data['min_Percent'].max() - data['min_Percent'].min())\n",
    "\n",
    "# Split Data\n",
    "train_df = data.loc[data['data'] == 'train']\n",
    "sub_df = data.loc[data['data'] == 'sub']"
   ]
  },
  {
   "cell_type": "markdown",
   "metadata": {
    "papermill": {
     "duration": 0.031454,
     "end_time": "2021-01-11T07:24:47.268923",
     "exception": false,
     "start_time": "2021-01-11T07:24:47.237469",
     "status": "completed"
    },
    "tags": []
   },
   "source": [
    "### Cluster Patients\n"
   ]
  },
  {
   "cell_type": "code",
   "execution_count": 12,
   "metadata": {
    "execution": {
     "iopub.execute_input": "2021-01-11T07:24:47.349576Z",
     "iopub.status.busy": "2021-01-11T07:24:47.348951Z",
     "iopub.status.idle": "2021-01-11T07:24:47.990637Z",
     "shell.execute_reply": "2021-01-11T07:24:47.989918Z"
    },
    "papermill": {
     "duration": 0.690259,
     "end_time": "2021-01-11T07:24:47.990792",
     "exception": false,
     "start_time": "2021-01-11T07:24:47.300533",
     "status": "completed"
    },
    "tags": []
   },
   "outputs": [
    {
     "data": {
      "application/vnd.jupyter.widget-view+json": {
       "model_id": "d251c92652bc44198ad5a85074ec53bd",
       "version_major": 2,
       "version_minor": 0
      },
      "text/plain": [
       "HBox(children=(FloatProgress(value=0.0, max=176.0), HTML(value='')))"
      ]
     },
     "metadata": {},
     "output_type": "display_data"
    },
    {
     "name": "stdout",
     "output_type": "stream",
     "text": [
      "\n"
     ]
    }
   ],
   "source": [
    "# Linear Regression with the last few FVC\n",
    "training_patient = train_df[~train_df.duplicated(subset=['Patient'])]\n",
    "\n",
    "for patient in tqdm(train_df['Patient'].unique()): \n",
    "    idx = train_df['Patient'] == patient\n",
    "    z = ((train_df.loc[idx, 'FVC'].values[-PARAMS['NUM_LAST_FVC']:] - train_df.loc[idx, 'FVC'].values[-PARAMS['NUM_LAST_FVC']:].mean()) /\n",
    "         train_df.loc[idx, 'FVC'].values[-PARAMS['NUM_LAST_FVC']:].std())\n",
    "    reg = LinearRegression(normalize=True,fit_intercept=True).fit(train_df.loc[idx, 'Weeks'].values[-PARAMS['NUM_LAST_FVC']:].reshape(-1,1),z)\n",
    "    train_df.loc[idx, 'Intercept_2'] = reg.intercept_\n",
    "    train_df.loc[idx, 'Coef_2'] = reg.coef_[0]\n",
    "    \n",
    "training_patient = train_df.drop_duplicates('Patient') \n",
    "(ggplot(training_patient) + aes(x='Intercept_2',y='Coef_2',fill='Sex',size='FVC') + geom_point(alpha=0.4) )\n",
    "\n",
    "# Clustering Patients\n",
    "cust_array = np.array([training_patient['Intercept_2'].tolist(),training_patient['Coef_2'].tolist()])\n",
    "cust_array = cust_array.T\n",
    "\n",
    "kmeans = KMeans(n_clusters=4, random_state=0)\n",
    "clusters = kmeans.fit(cust_array)\n",
    "training_patient['Group'] = clusters.labels_\n",
    "\n",
    "(ggplot(training_patient) + aes(x='Intercept_2',y='Coef_2',fill='Group') + geom_point(alpha=0.4) )\n",
    "\n",
    "skf = StratifiedKFold(n_splits=PARAMS['NFOLDS'])\n",
    "splitter = skf.split(training_patient, training_patient['Group'])"
   ]
  },
  {
   "cell_type": "markdown",
   "metadata": {
    "papermill": {
     "duration": 0.047879,
     "end_time": "2021-01-11T07:24:48.087484",
     "exception": false,
     "start_time": "2021-01-11T07:24:48.039605",
     "status": "completed"
    },
    "tags": []
   },
   "source": [
    "## Training\n",
    "### Define Model"
   ]
  },
  {
   "cell_type": "code",
   "execution_count": 13,
   "metadata": {
    "execution": {
     "iopub.execute_input": "2021-01-11T07:24:48.193147Z",
     "iopub.status.busy": "2021-01-11T07:24:48.192082Z",
     "iopub.status.idle": "2021-01-11T07:24:48.236119Z",
     "shell.execute_reply": "2021-01-11T07:24:48.237300Z"
    },
    "papermill": {
     "duration": 0.104987,
     "end_time": "2021-01-11T07:24:48.237488",
     "exception": false,
     "start_time": "2021-01-11T07:24:48.132501",
     "status": "completed"
    },
    "tags": []
   },
   "outputs": [],
   "source": [
    "# Metric\n",
    "def score(y_true, y_pred):\n",
    "    C1, C2 = tf.constant(70, dtype='float32'), tf.constant(1000, dtype=\"float32\")\n",
    "    tf.dtypes.cast(y_true, tf.float32)\n",
    "    tf.dtypes.cast(y_pred, tf.float32)\n",
    "    sigma = y_pred[:, 2] - y_pred[:, 0]\n",
    "    fvc_pred = y_pred[:, 1]\n",
    "\n",
    "    sigma_clip = tf.maximum(sigma, C1)\n",
    "    delta = tf.abs(y_true[:, 0] - fvc_pred)\n",
    "    delta = tf.minimum(delta, C2)\n",
    "    sq2 = tf.sqrt( tf.dtypes.cast(2, dtype=tf.float32) )\n",
    "    metric = (delta / sigma_clip)*sq2 + tf.math.log(sigma_clip* sq2)\n",
    "    return K.mean(metric)\n",
    "\n",
    "\n",
    "# Pinball Loss\n",
    "def qloss(y_true, y_pred, qs1=PARAMS['QS1'], qs2=PARAMS['QS2'], qs3=PARAMS['QS3']):\n",
    "    qs = [qs1, qs2, qs3]\n",
    "    q = tf.constant(np.array([qs]), dtype=tf.float32)\n",
    "    e = y_true - y_pred\n",
    "    v = tf.maximum(q*e, (q-1)*e)\n",
    "    return K.mean(v)\n",
    "\n",
    "\n",
    "# Loss\n",
    "def mloss(_lambda):\n",
    "    def loss(y_true, y_pred):\n",
    "        return _lambda * qloss(y_true, y_pred) + (1 - _lambda)*score(y_true, y_pred)\n",
    "    return loss\n",
    "\n",
    "\n",
    "# Build Model\n",
    "def make_model(nh):\n",
    "    z = L.Input((nh,), name=\"Patient\")\n",
    "    x = L.Dense(100, activation=\"relu\", name=\"d1\")(z)\n",
    "    x = L.Dense(100, activation=\"relu\", name=\"d2\")(x)\n",
    "\n",
    "    p1 = L.Dense(3, activation=\"linear\", name=\"p1\")(x)\n",
    "    p2 = L.Dense(3, activation=\"relu\", name=\"p2\")(x)\n",
    "    preds = L.Lambda(lambda x: x[0] + tf.cumsum(x[1], axis=1), \n",
    "                     name=\"preds\")([p1, p2])\n",
    "    \n",
    "    model = M.Model(z, preds, name=\"CNN\")\n",
    "    model.compile(loss=mloss(0.8), optimizer=tf.keras.optimizers.Adam(lr=0.1, beta_1=0.9, beta_2=0.999, epsilon=None, decay=0.01, amsgrad=False), metrics=[score])\n",
    "    return model"
   ]
  },
  {
   "cell_type": "markdown",
   "metadata": {
    "papermill": {
     "duration": 0.087218,
     "end_time": "2021-01-11T07:24:48.391491",
     "exception": false,
     "start_time": "2021-01-11T07:24:48.304273",
     "status": "completed"
    },
    "tags": []
   },
   "source": [
    "### Train"
   ]
  },
  {
   "cell_type": "code",
   "execution_count": 14,
   "metadata": {
    "execution": {
     "iopub.execute_input": "2021-01-11T07:24:48.640611Z",
     "iopub.status.busy": "2021-01-11T07:24:48.639602Z",
     "iopub.status.idle": "2021-01-11T07:25:28.701746Z",
     "shell.execute_reply": "2021-01-11T07:25:28.703396Z"
    },
    "papermill": {
     "duration": 40.199026,
     "end_time": "2021-01-11T07:25:28.703630",
     "exception": false,
     "start_time": "2021-01-11T07:24:48.504604",
     "status": "completed"
    },
    "tags": []
   },
   "outputs": [
    {
     "name": "stdout",
     "output_type": "stream",
     "text": [
      "FOLD 0\n",
      "train loss:48.15951 score:6.61844\n",
      " val  loss:62.19877 score:6.92239\n"
     ]
    },
    {
     "data": {
      "image/png": "[encoded data removed]",
      "text/plain": [
       "<Figure size 432x288 with 1 Axes>"
      ]
     },
     "metadata": {
      "needs_background": "light"
     },
     "output_type": "display_data"
    },
    {
     "data": {
      "image/png": "[encoded data removed]",
      "text/plain": [
       "<Figure size 432x288 with 1 Axes>"
      ]
     },
     "metadata": {
      "needs_background": "light"
     },
     "output_type": "display_data"
    },
    {
     "name": "stdout",
     "output_type": "stream",
     "text": [
      "FOLD 1\n",
      "train loss:46.47879 score:6.62071\n",
      " val  loss:82.29725 score:7.28509\n"
     ]
    },
    {
     "data": {
      "image/png": "[encoded data removed]",
      "text/plain": [
       "<Figure size 432x288 with 1 Axes>"
      ]
     },
     "metadata": {
      "needs_background": "light"
     },
     "output_type": "display_data"
    },
    {
     "data": {
      "image/png": "[encoded data removed]",
      "text/plain": [
       "<Figure size 432x288 with 1 Axes>"
      ]
     },
     "metadata": {
      "needs_background": "light"
     },
     "output_type": "display_data"
    },
    {
     "name": "stdout",
     "output_type": "stream",
     "text": [
      "FOLD 2\n",
      "train loss:50.86448 score:6.67315\n",
      " val  loss:63.14377 score:6.88676\n"
     ]
    },
    {
     "data": {
      "image/png": "[encoded data removed]",
      "text/plain": [
       "<Figure size 432x288 with 1 Axes>"
      ]
     },
     "metadata": {
      "needs_background": "light"
     },
     "output_type": "display_data"
    },
    {
     "data": {
      "image/png": "[encoded data removed]",
      "text/plain": [
       "<Figure size 432x288 with 1 Axes>"
      ]
     },
     "metadata": {
      "needs_background": "light"
     },
     "output_type": "display_data"
    },
    {
     "name": "stdout",
     "output_type": "stream",
     "text": [
      "FOLD 3\n",
      "train loss:51.74122 score:6.71283\n",
      " val  loss:65.04294 score:6.93638\n"
     ]
    },
    {
     "data": {
      "image/png": "[encoded data removed]",
      "text/plain": [
       "<Figure size 432x288 with 1 Axes>"
      ]
     },
     "metadata": {
      "needs_background": "light"
     },
     "output_type": "display_data"
    },
    {
     "data": {
      "image/png": "[encoded data removed]",
      "text/plain": [
       "<Figure size 432x288 with 1 Axes>"
      ]
     },
     "metadata": {
      "needs_background": "light"
     },
     "output_type": "display_data"
    }
   ],
   "source": [
    "# Prepare for training\n",
    "y = train_df['FVC'].values.astype('float32')\n",
    "z_train = train_df[FEATURES].values\n",
    "z_sub = sub_df[FEATURES].values\n",
    "nh = z_train.shape[1]\n",
    "pred_train = np.zeros((z_train.shape[0], 3))\n",
    "pred_sub = np.zeros((z_sub.shape[0], 3))\n",
    "\n",
    "# Cross-Validation\n",
    "for cnt, (tr_idx_pati, val_idx_pati) in enumerate(splitter):\n",
    "    # Preprocess\n",
    "    patient_train = training_patient['Patient'].iloc[tr_idx_pati]\n",
    "    patient_test = training_patient['Patient'].iloc[val_idx_pati]\n",
    "\n",
    "    tr_idx = train_df['Patient'].isin(patient_train)\n",
    "    val_idx = train_df['Patient'].isin(patient_test)\n",
    "    \n",
    "    data_train = train_df[tr_idx]\n",
    "    data_val = train_df[val_idx]\n",
    "    \n",
    "    data_train = data_train.sort_values(['Patient', 'Weeks'], ascending=True)\n",
    "    data_val = data_val.sort_values(['Patient', 'Weeks'], ascending=True)\n",
    "    \n",
    "    # Choose the last 3 FVC for validation\n",
    "    tmp = pd.DataFrame(columns = data_val.columns)\n",
    "    for i in range(3):\n",
    "        keep_idx = data_val.duplicated(subset=['Patient'], keep='last')\n",
    "        tmp = tmp.append(data_val[~keep_idx])\n",
    "        data_val = data_val[keep_idx]\n",
    "    data_val = tmp\n",
    "    del tmp\n",
    "    gc.collect()\n",
    "                      \n",
    "    tr_idx = data_train.index\n",
    "    val_idx = data_val.index   \n",
    "    \n",
    "    # Train\n",
    "    print(f'FOLD {cnt}')\n",
    "    model = make_model(nh)\n",
    "    modelCheckpoint = ModelCheckpoint(f'fold{cnt}.h5' , monitor='val_loss', verbose=0, save_best_only = True, save_weights_only=False, mode='auto')\n",
    "    early_stopping = EarlyStopping(monitor='val_loss', patience=PARAMS['EARLY_STOPPING'], verbose=0, mode='auto')\n",
    "    stack = model.fit(z_train[tr_idx], y[tr_idx], batch_size=PARAMS['EARLY_STOPPING'], \n",
    "                      validation_data=(z_train[val_idx], y[val_idx]), \n",
    "                      epochs=PARAMS['EPOCHS'],\n",
    "                      callbacks=[modelCheckpoint, early_stopping],\n",
    "                      verbose=0)\n",
    "     \n",
    "    # Predict\n",
    "    pred_train[val_idx] = model.predict(z_train[val_idx], batch_size=PARAMS['EARLY_STOPPING'], verbose=0)\n",
    "    pred_sub += model.predict(z_sub, batch_size=PARAMS['EARLY_STOPPING'], verbose=0) / PARAMS['NFOLDS']\n",
    "    \n",
    "    # Evaluate training\n",
    "    train_loss, train_score = model.evaluate(z_train[tr_idx], y[tr_idx], verbose=0, batch_size=PARAMS['EARLY_STOPPING'])\n",
    "    val_loss, val_score = model.evaluate(z_train[val_idx], y[val_idx], verbose=0, batch_size=PARAMS['EARLY_STOPPING'])\n",
    "    \n",
    "    # Print loss and score\n",
    "    print(f'train loss:{train_loss:.5f} score:{train_score:.5f}')\n",
    "    print(f' val  loss:{val_loss:.5f} score:{val_score:.5f}')\n",
    "\n",
    "    # Plot loss\n",
    "    fig=plt.figure()\n",
    "    plt.plot(stack.history['val_loss'], label=\"val_loss\")\n",
    "    plt.plot(stack.history['loss'], label=\"train_loss\")\n",
    "    plt.ylim([0,100])\n",
    "    plt.title(\"loss\")\n",
    "    plt.legend(loc='center left', bbox_to_anchor=(1, 0.5))\n",
    "    plt.show()\n",
    "    plt.clf()\n",
    "    plt.close()\n",
    "\n",
    "    # Plot score\n",
    "    fig=plt.figure()\n",
    "    plt.plot(stack.history['val_score'], label=\"val_score\")\n",
    "    plt.plot(stack.history['score'], label=\"train_score\")\n",
    "    plt.ylim([6,8])\n",
    "    plt.title(\"score\")\n",
    "    plt.legend(loc='center left', bbox_to_anchor=(1, 0.5))\n",
    "    plt.show()"
   ]
  },
  {
   "cell_type": "markdown",
   "metadata": {
    "papermill": {
     "duration": 0.068793,
     "end_time": "2021-01-11T07:25:28.847602",
     "exception": false,
     "start_time": "2021-01-11T07:25:28.778809",
     "status": "completed"
    },
    "tags": []
   },
   "source": [
    "### Evaluate"
   ]
  },
  {
   "cell_type": "code",
   "execution_count": 15,
   "metadata": {
    "execution": {
     "iopub.execute_input": "2021-01-11T07:25:28.996468Z",
     "iopub.status.busy": "2021-01-11T07:25:28.995599Z",
     "iopub.status.idle": "2021-01-11T07:25:29.185098Z",
     "shell.execute_reply": "2021-01-11T07:25:29.185860Z"
    },
    "papermill": {
     "duration": 0.270699,
     "end_time": "2021-01-11T07:25:29.186007",
     "exception": false,
     "start_time": "2021-01-11T07:25:28.915308",
     "status": "completed"
    },
    "tags": []
   },
   "outputs": [
    {
     "name": "stdout",
     "output_type": "stream",
     "text": [
      "CV score : 6.58772\n"
     ]
    }
   ],
   "source": [
    "# Calculate Cross-Validation Score\n",
    "def cal_cv(y_true, y_pred):\n",
    "    sigma = y_pred[:, 2] - y_pred[:, 0]\n",
    "    fvc_pred = y_pred[:, 1]\n",
    "    sigma_clip = np.max(sigma)\n",
    "    delta = np.abs(y_true[:, 0] - fvc_pred)\n",
    "    delta = np.min(delta)\n",
    "    sq2 = np.sqrt(2.)\n",
    "    metric = (delta / sigma_clip)*sq2 + np.log(sigma_clip* sq2)\n",
    "    return np.mean(metric)\n",
    "\n",
    "\n",
    "cv_score=0\n",
    "for id_patient in train_df['Patient'].unique():\n",
    "    idx_patient = train_df.loc[train_df['Patient'] == id_patient].index\n",
    "    cv_score += cal_cv(np.array(y[idx_patient]).reshape(-1, 1), pred_train[idx_patient])\n",
    "cv_score /= len(train_df['Patient'].unique())\n",
    "print(f\"CV score : {cv_score:.5f}\")"
   ]
  },
  {
   "cell_type": "markdown",
   "metadata": {
    "papermill": {
     "duration": 0.043136,
     "end_time": "2021-01-11T07:25:29.283658",
     "exception": false,
     "start_time": "2021-01-11T07:25:29.240522",
     "status": "completed"
    },
    "tags": []
   },
   "source": [
    "## Make Submission"
   ]
  },
  {
   "cell_type": "code",
   "execution_count": 16,
   "metadata": {
    "execution": {
     "iopub.execute_input": "2021-01-11T07:25:29.387156Z",
     "iopub.status.busy": "2021-01-11T07:25:29.381578Z",
     "iopub.status.idle": "2021-01-11T07:25:29.389430Z",
     "shell.execute_reply": "2021-01-11T07:25:29.389927Z"
    },
    "papermill": {
     "duration": 0.063194,
     "end_time": "2021-01-11T07:25:29.390048",
     "exception": false,
     "start_time": "2021-01-11T07:25:29.326854",
     "status": "completed"
    },
    "tags": []
   },
   "outputs": [],
   "source": [
    "# Calculate Confidence\n",
    "sigma_opt = mean_absolute_error(y, pred_train[:, 1])\n",
    "unc = pred_train[:,2] - pred_train[:, 0]\n",
    "sigma_mean = np.mean(unc)\n",
    "\n",
    "sub_df['FVC1'] = pred_sub[:, 1]\n",
    "sub_df['Confidence1'] = pred_sub[:, 2] - pred_sub[:, 0]\n",
    "sub_reg = sub_df[['Patient_Week','FVC','Confidence','FVC1','Confidence1']].copy()\n",
    "\n",
    "sub_reg.loc[~sub_reg['FVC1'].isnull(),'FVC'] = sub_reg.loc[~sub_reg['FVC1'].isnull(),'FVC1']\n",
    "if sigma_mean<70:\n",
    "    sub_reg['Confidence'] = sigma_opt\n",
    "else:\n",
    "    sub_reg.loc[~sub_reg['FVC1'].isnull(),'Confidence'] = sub_reg.loc[~sub_reg['FVC1'].isnull(),'Confidence1']"
   ]
  },
  {
   "cell_type": "code",
   "execution_count": 17,
   "metadata": {
    "execution": {
     "iopub.execute_input": "2021-01-11T07:25:29.499341Z",
     "iopub.status.busy": "2021-01-11T07:25:29.485013Z",
     "iopub.status.idle": "2021-01-11T07:25:29.514295Z",
     "shell.execute_reply": "2021-01-11T07:25:29.514904Z"
    },
    "papermill": {
     "duration": 0.081865,
     "end_time": "2021-01-11T07:25:29.515053",
     "exception": false,
     "start_time": "2021-01-11T07:25:29.433188",
     "status": "completed"
    },
    "tags": []
   },
   "outputs": [
    {
     "name": "stdout",
     "output_type": "stream",
     "text": [
      "                    Patient_Week          FVC  Confidence\n",
      "0   ID00419637202311204720264_-1  2999.261841  278.657654\n",
      "1  ID00419637202311204720264_-10  3024.713440  269.021240\n",
      "2  ID00419637202311204720264_-11  3027.541504  267.950562\n",
      "3  ID00419637202311204720264_-12  3030.369446  266.879883\n",
      "4   ID00419637202311204720264_-2  3002.089722  277.586853\n"
     ]
    }
   ],
   "source": [
    "# Make CSV\n",
    "otest = pd.read_csv(PATH[\"TEST_CSV_PATH\"])\n",
    "for i in range(len(otest)):\n",
    "    sub_reg.loc[sub_reg['Patient_Week']==otest.Patient[i]+'_'+str(otest.Weeks[i]), 'FVC'] = otest.FVC[i]\n",
    "    sub_reg.loc[sub_reg['Patient_Week']==otest.Patient[i]+'_'+str(otest.Weeks[i]), 'Confidence'] = 0.1\n",
    "\n",
    "sub_reg = sub_reg.sort_values(by=['Patient_Week'], ascending=True).reset_index(drop=True)\n",
    "sub_reg = sub_reg[['Patient_Week', 'FVC', 'Confidence']]\n",
    "sub_reg.to_csv('submission_reg.csv', index=False)\n",
    "print(sub_reg.head())"
   ]
  },
  {
   "cell_type": "markdown",
   "metadata": {
    "papermill": {
     "duration": 0.044189,
     "end_time": "2021-01-11T07:25:29.603615",
     "exception": false,
     "start_time": "2021-01-11T07:25:29.559426",
     "status": "completed"
    },
    "tags": []
   },
   "source": [
    "# Ensemble"
   ]
  },
  {
   "cell_type": "code",
   "execution_count": 18,
   "metadata": {
    "execution": {
     "iopub.execute_input": "2021-01-11T07:25:29.705852Z",
     "iopub.status.busy": "2021-01-11T07:25:29.701610Z",
     "iopub.status.idle": "2021-01-11T07:25:29.715307Z",
     "shell.execute_reply": "2021-01-11T07:25:29.714841Z"
    },
    "papermill": {
     "duration": 0.067786,
     "end_time": "2021-01-11T07:25:29.715400",
     "exception": false,
     "start_time": "2021-01-11T07:25:29.647614",
     "status": "completed"
    },
    "tags": []
   },
   "outputs": [
    {
     "name": "stdout",
     "output_type": "stream",
     "text": [
      "                    Patient_Week          FVC  Confidence\n",
      "0   ID00419637202311204720264_-1  3008.913399  242.467420\n",
      "1  ID00419637202311204720264_-10  3036.351155  241.834766\n",
      "2  ID00419637202311204720264_-11  3039.399881  241.764499\n",
      "3  ID00419637202311204720264_-12  3042.448510  241.694231\n",
      "4   ID00419637202311204720264_-2  3011.961979  242.397055\n"
     ]
    }
   ],
   "source": [
    "# Simple Blending\n",
    "subm = sub_reg[['Patient_Week']].copy()\n",
    "subm['FVC'] = PARAMS['WEIGHT_EFF']*sub_eff['FVC'] + (1-PARAMS['WEIGHT_EFF'])*sub_reg['FVC']\n",
    "subm['Confidence'] = PARAMS['WEIGHT_EFF']*sub_eff['Confidence'] + (1-PARAMS['WEIGHT_EFF'])*sub_reg['Confidence']\n",
    "subm.to_csv('submission.csv', index=False)\n",
    "print(subm.head())"
   ]
  }
 ],
 "metadata": {
  "kernelspec": {
   "display_name": "Python 3",
   "language": "python",
   "name": "python3"
  },
  "language_info": {
   "codemirror_mode": {
    "name": "ipython",
    "version": 3
   },
   "file_extension": ".py",
   "mimetype": "text/x-python",
   "name": "python",
   "nbconvert_exporter": "python",
   "pygments_lexer": "ipython3",
   "version": "3.7.6"
  },
  "papermill": {
   "duration": 825.210794,
   "end_time": "2021-01-11T07:25:30.568216",
   "environment_variables": {},
   "exception": null,
   "input_path": "__notebook__.ipynb",
   "output_path": "__notebook__.ipynb",
   "parameters": {},
   "start_time": "2021-01-11T07:11:45.357422",
   "version": "2.1.0"
  },
  "widgets": {
   "application/vnd.jupyter.widget-state+json": {
    "state": {
     "0a9ba831323f451cb8fa3187aad87053": {
      "model_module": "@jupyter-widgets/controls",
      "model_module_version": "1.5.0",
      "model_name": "FloatProgressModel",
      "state": {
       "_dom_classes": [],
       "_model_module": "@jupyter-widgets/controls",
       "_model_module_version": "1.5.0",
       "_model_name": "FloatProgressModel",
       "_view_count": null,
       "_view_module": "@jupyter-widgets/controls",
       "_view_module_version": "1.5.0",
       "_view_name": "ProgressView",
       "bar_style": "success",
       "description": "",
       "description_tooltip": null,
       "layout": "IPY_MODEL_f95420fc9e874761b813377ef39e2e6e",
       "max": 1.0,
       "min": 0.0,
       "orientation": "horizontal",
       "style": "IPY_MODEL_f38cc438dc9f4d77aa82e9c0ebaa4ea7",
       "value": 1.0
      }
     },
     "35b75b96dd264d34a1bad6051bd54f74": {
      "model_module": "@jupyter-widgets/controls",
      "model_module_version": "1.5.0",
      "model_name": "HTMLModel",
      "state": {
       "_dom_classes": [],
       "_model_module": "@jupyter-widgets/controls",
       "_model_module_version": "1.5.0",
       "_model_name": "HTMLModel",
       "_view_count": null,
       "_view_module": "@jupyter-widgets/controls",
       "_view_module_version": "1.5.0",
       "_view_name": "HTMLView",
       "description": "",
       "description_tooltip": null,
       "layout": "IPY_MODEL_7f293375fa644e6bb062709bb08c386c",
       "placeholder": "​",
       "style": "IPY_MODEL_b532e19d005c47c396a86a053c7f39f7",
       "value": " 176/? [00:04&lt;00:00, 40.16it/s]"
      }
     },
     "3ce6979b3651459cbcca73a7bbdabd84": {
      "model_module": "@jupyter-widgets/base",
      "model_module_version": "1.2.0",
      "model_name": "LayoutModel",
      "state": {
       "_model_module": "@jupyter-widgets/base",
       "_model_module_version": "1.2.0",
       "_model_name": "LayoutModel",
       "_view_count": null,
       "_view_module": "@jupyter-widgets/base",
       "_view_module_version": "1.2.0",
       "_view_name": "LayoutView",
       "align_content": null,
       "align_items": null,
       "align_self": null,
       "border": null,
       "bottom": null,
       "display": null,
       "flex": null,
       "flex_flow": null,
       "grid_area": null,
       "grid_auto_columns": null,
       "grid_auto_flow": null,
       "grid_auto_rows": null,
       "grid_column": null,
       "grid_gap": null,
       "grid_row": null,
       "grid_template_areas": null,
       "grid_template_columns": null,
       "grid_template_rows": null,
       "height": null,
       "justify_content": null,
       "justify_items": null,
       "left": null,
       "margin": null,
       "max_height": null,
       "max_width": null,
       "min_height": null,
       "min_width": null,
       "object_fit": null,
       "object_position": null,
       "order": null,
       "overflow": null,
       "overflow_x": null,
       "overflow_y": null,
       "padding": null,
       "right": null,
       "top": null,
       "visibility": null,
       "width": null
      }
     },
     "3d5f534a29bd46b596563be7955906a2": {
      "model_module": "@jupyter-widgets/base",
      "model_module_version": "1.2.0",
      "model_name": "LayoutModel",
      "state": {
       "_model_module": "@jupyter-widgets/base",
       "_model_module_version": "1.2.0",
       "_model_name": "LayoutModel",
       "_view_count": null,
       "_view_module": "@jupyter-widgets/base",
       "_view_module_version": "1.2.0",
       "_view_name": "LayoutView",
       "align_content": null,
       "align_items": null,
       "align_self": null,
       "border": null,
       "bottom": null,
       "display": null,
       "flex": null,
       "flex_flow": null,
       "grid_area": null,
       "grid_auto_columns": null,
       "grid_auto_flow": null,
       "grid_auto_rows": null,
       "grid_column": null,
       "grid_gap": null,
       "grid_row": null,
       "grid_template_areas": null,
       "grid_template_columns": null,
       "grid_template_rows": null,
       "height": null,
       "justify_content": null,
       "justify_items": null,
       "left": null,
       "margin": null,
       "max_height": null,
       "max_width": null,
       "min_height": null,
       "min_width": null,
       "object_fit": null,
       "object_position": null,
       "order": null,
       "overflow": null,
       "overflow_x": null,
       "overflow_y": null,
       "padding": null,
       "right": null,
       "top": null,
       "visibility": null,
       "width": null
      }
     },
     "48edb876ef04455b9bb471c00c99d824": {
      "model_module": "@jupyter-widgets/controls",
      "model_module_version": "1.5.0",
      "model_name": "HTMLModel",
      "state": {
       "_dom_classes": [],
       "_model_module": "@jupyter-widgets/controls",
       "_model_module_version": "1.5.0",
       "_model_name": "HTMLModel",
       "_view_count": null,
       "_view_module": "@jupyter-widgets/controls",
       "_view_module_version": "1.5.0",
       "_view_name": "HTMLView",
       "description": "",
       "description_tooltip": null,
       "layout": "IPY_MODEL_5d8c42a7147346e38ba8b5e48351869e",
       "placeholder": "​",
       "style": "IPY_MODEL_63e7180c89584b6a9ec9bf416b43f5b9",
       "value": " 9/9 [11:46&lt;00:00, 78.47s/it]"
      }
     },
     "4b6f35b91f9f4838a4d5f27bf1eb7bbf": {
      "model_module": "@jupyter-widgets/controls",
      "model_module_version": "1.5.0",
      "model_name": "ProgressStyleModel",
      "state": {
       "_model_module": "@jupyter-widgets/controls",
       "_model_module_version": "1.5.0",
       "_model_name": "ProgressStyleModel",
       "_view_count": null,
       "_view_module": "@jupyter-widgets/base",
       "_view_module_version": "1.2.0",
       "_view_name": "StyleView",
       "bar_color": null,
       "description_width": "initial"
      }
     },
     "5d8c42a7147346e38ba8b5e48351869e": {
      "model_module": "@jupyter-widgets/base",
      "model_module_version": "1.2.0",
      "model_name": "LayoutModel",
      "state": {
       "_model_module": "@jupyter-widgets/base",
       "_model_module_version": "1.2.0",
       "_model_name": "LayoutModel",
       "_view_count": null,
       "_view_module": "@jupyter-widgets/base",
       "_view_module_version": "1.2.0",
       "_view_name": "LayoutView",
       "align_content": null,
       "align_items": null,
       "align_self": null,
       "border": null,
       "bottom": null,
       "display": null,
       "flex": null,
       "flex_flow": null,
       "grid_area": null,
       "grid_auto_columns": null,
       "grid_auto_flow": null,
       "grid_auto_rows": null,
       "grid_column": null,
       "grid_gap": null,
       "grid_row": null,
       "grid_template_areas": null,
       "grid_template_columns": null,
       "grid_template_rows": null,
       "height": null,
       "justify_content": null,
       "justify_items": null,
       "left": null,
       "margin": null,
       "max_height": null,
       "max_width": null,
       "min_height": null,
       "min_width": null,
       "object_fit": null,
       "object_position": null,
       "order": null,
       "overflow": null,
       "overflow_x": null,
       "overflow_y": null,
       "padding": null,
       "right": null,
       "top": null,
       "visibility": null,
       "width": null
      }
     },
     "63e7180c89584b6a9ec9bf416b43f5b9": {
      "model_module": "@jupyter-widgets/controls",
      "model_module_version": "1.5.0",
      "model_name": "DescriptionStyleModel",
      "state": {
       "_model_module": "@jupyter-widgets/controls",
       "_model_module_version": "1.5.0",
       "_model_name": "DescriptionStyleModel",
       "_view_count": null,
       "_view_module": "@jupyter-widgets/base",
       "_view_module_version": "1.2.0",
       "_view_name": "StyleView",
       "description_width": ""
      }
     },
     "6a39e94e9b124a0b852079ad825f50cf": {
      "model_module": "@jupyter-widgets/controls",
      "model_module_version": "1.5.0",
      "model_name": "HBoxModel",
      "state": {
       "_dom_classes": [],
       "_model_module": "@jupyter-widgets/controls",
       "_model_module_version": "1.5.0",
       "_model_name": "HBoxModel",
       "_view_count": null,
       "_view_module": "@jupyter-widgets/controls",
       "_view_module_version": "1.5.0",
       "_view_name": "HBoxView",
       "box_style": "",
       "children": [
        "IPY_MODEL_ec81a0b7deb44a79b9f3fdfd18c5f95c",
        "IPY_MODEL_48edb876ef04455b9bb471c00c99d824"
       ],
       "layout": "IPY_MODEL_3ce6979b3651459cbcca73a7bbdabd84"
      }
     },
     "6e4061cc7bdf413bb50bde4e4c6cbc9e": {
      "model_module": "@jupyter-widgets/controls",
      "model_module_version": "1.5.0",
      "model_name": "DescriptionStyleModel",
      "state": {
       "_model_module": "@jupyter-widgets/controls",
       "_model_module_version": "1.5.0",
       "_model_name": "DescriptionStyleModel",
       "_view_count": null,
       "_view_module": "@jupyter-widgets/base",
       "_view_module_version": "1.2.0",
       "_view_name": "StyleView",
       "description_width": ""
      }
     },
     "780e55027e5346b5b5433fde7462f05e": {
      "model_module": "@jupyter-widgets/base",
      "model_module_version": "1.2.0",
      "model_name": "LayoutModel",
      "state": {
       "_model_module": "@jupyter-widgets/base",
       "_model_module_version": "1.2.0",
       "_model_name": "LayoutModel",
       "_view_count": null,
       "_view_module": "@jupyter-widgets/base",
       "_view_module_version": "1.2.0",
       "_view_name": "LayoutView",
       "align_content": null,
       "align_items": null,
       "align_self": null,
       "border": null,
       "bottom": null,
       "display": null,
       "flex": null,
       "flex_flow": null,
       "grid_area": null,
       "grid_auto_columns": null,
       "grid_auto_flow": null,
       "grid_auto_rows": null,
       "grid_column": null,
       "grid_gap": null,
       "grid_row": null,
       "grid_template_areas": null,
       "grid_template_columns": null,
       "grid_template_rows": null,
       "height": null,
       "justify_content": null,
       "justify_items": null,
       "left": null,
       "margin": null,
       "max_height": null,
       "max_width": null,
       "min_height": null,
       "min_width": null,
       "object_fit": null,
       "object_position": null,
       "order": null,
       "overflow": null,
       "overflow_x": null,
       "overflow_y": null,
       "padding": null,
       "right": null,
       "top": null,
       "visibility": null,
       "width": null
      }
     },
     "7f293375fa644e6bb062709bb08c386c": {
      "model_module": "@jupyter-widgets/base",
      "model_module_version": "1.2.0",
      "model_name": "LayoutModel",
      "state": {
       "_model_module": "@jupyter-widgets/base",
       "_model_module_version": "1.2.0",
       "_model_name": "LayoutModel",
       "_view_count": null,
       "_view_module": "@jupyter-widgets/base",
       "_view_module_version": "1.2.0",
       "_view_name": "LayoutView",
       "align_content": null,
       "align_items": null,
       "align_self": null,
       "border": null,
       "bottom": null,
       "display": null,
       "flex": null,
       "flex_flow": null,
       "grid_area": null,
       "grid_auto_columns": null,
       "grid_auto_flow": null,
       "grid_auto_rows": null,
       "grid_column": null,
       "grid_gap": null,
       "grid_row": null,
       "grid_template_areas": null,
       "grid_template_columns": null,
       "grid_template_rows": null,
       "height": null,
       "justify_content": null,
       "justify_items": null,
       "left": null,
       "margin": null,
       "max_height": null,
       "max_width": null,
       "min_height": null,
       "min_width": null,
       "object_fit": null,
       "object_position": null,
       "order": null,
       "overflow": null,
       "overflow_x": null,
       "overflow_y": null,
       "padding": null,
       "right": null,
       "top": null,
       "visibility": null,
       "width": null
      }
     },
     "80f919a6775f4b0ab68dde153f9d738b": {
      "model_module": "@jupyter-widgets/base",
      "model_module_version": "1.2.0",
      "model_name": "LayoutModel",
      "state": {
       "_model_module": "@jupyter-widgets/base",
       "_model_module_version": "1.2.0",
       "_model_name": "LayoutModel",
       "_view_count": null,
       "_view_module": "@jupyter-widgets/base",
       "_view_module_version": "1.2.0",
       "_view_name": "LayoutView",
       "align_content": null,
       "align_items": null,
       "align_self": null,
       "border": null,
       "bottom": null,
       "display": null,
       "flex": null,
       "flex_flow": null,
       "grid_area": null,
       "grid_auto_columns": null,
       "grid_auto_flow": null,
       "grid_auto_rows": null,
       "grid_column": null,
       "grid_gap": null,
       "grid_row": null,
       "grid_template_areas": null,
       "grid_template_columns": null,
       "grid_template_rows": null,
       "height": null,
       "justify_content": null,
       "justify_items": null,
       "left": null,
       "margin": null,
       "max_height": null,
       "max_width": null,
       "min_height": null,
       "min_width": null,
       "object_fit": null,
       "object_position": null,
       "order": null,
       "overflow": null,
       "overflow_x": null,
       "overflow_y": null,
       "padding": null,
       "right": null,
       "top": null,
       "visibility": null,
       "width": null
      }
     },
     "8184dce81ab1419c9b954a03a4dc0062": {
      "model_module": "@jupyter-widgets/controls",
      "model_module_version": "1.5.0",
      "model_name": "ProgressStyleModel",
      "state": {
       "_model_module": "@jupyter-widgets/controls",
       "_model_module_version": "1.5.0",
       "_model_name": "ProgressStyleModel",
       "_view_count": null,
       "_view_module": "@jupyter-widgets/base",
       "_view_module_version": "1.2.0",
       "_view_name": "StyleView",
       "bar_color": null,
       "description_width": "initial"
      }
     },
     "877f5eded8f3461ba6b2f0416db64a15": {
      "model_module": "@jupyter-widgets/base",
      "model_module_version": "1.2.0",
      "model_name": "LayoutModel",
      "state": {
       "_model_module": "@jupyter-widgets/base",
       "_model_module_version": "1.2.0",
       "_model_name": "LayoutModel",
       "_view_count": null,
       "_view_module": "@jupyter-widgets/base",
       "_view_module_version": "1.2.0",
       "_view_name": "LayoutView",
       "align_content": null,
       "align_items": null,
       "align_self": null,
       "border": null,
       "bottom": null,
       "display": null,
       "flex": null,
       "flex_flow": null,
       "grid_area": null,
       "grid_auto_columns": null,
       "grid_auto_flow": null,
       "grid_auto_rows": null,
       "grid_column": null,
       "grid_gap": null,
       "grid_row": null,
       "grid_template_areas": null,
       "grid_template_columns": null,
       "grid_template_rows": null,
       "height": null,
       "justify_content": null,
       "justify_items": null,
       "left": null,
       "margin": null,
       "max_height": null,
       "max_width": null,
       "min_height": null,
       "min_width": null,
       "object_fit": null,
       "object_position": null,
       "order": null,
       "overflow": null,
       "overflow_x": null,
       "overflow_y": null,
       "padding": null,
       "right": null,
       "top": null,
       "visibility": null,
       "width": null
      }
     },
     "8e48e4446a764c0dab17436ba57c6249": {
      "model_module": "@jupyter-widgets/controls",
      "model_module_version": "1.5.0",
      "model_name": "FloatProgressModel",
      "state": {
       "_dom_classes": [],
       "_model_module": "@jupyter-widgets/controls",
       "_model_module_version": "1.5.0",
       "_model_name": "FloatProgressModel",
       "_view_count": null,
       "_view_module": "@jupyter-widgets/controls",
       "_view_module_version": "1.5.0",
       "_view_name": "ProgressView",
       "bar_style": "success",
       "description": "100%",
       "description_tooltip": null,
       "layout": "IPY_MODEL_3d5f534a29bd46b596563be7955906a2",
       "max": 176.0,
       "min": 0.0,
       "orientation": "horizontal",
       "style": "IPY_MODEL_8184dce81ab1419c9b954a03a4dc0062",
       "value": 176.0
      }
     },
     "b532e19d005c47c396a86a053c7f39f7": {
      "model_module": "@jupyter-widgets/controls",
      "model_module_version": "1.5.0",
      "model_name": "DescriptionStyleModel",
      "state": {
       "_model_module": "@jupyter-widgets/controls",
       "_model_module_version": "1.5.0",
       "_model_name": "DescriptionStyleModel",
       "_view_count": null,
       "_view_module": "@jupyter-widgets/base",
       "_view_module_version": "1.2.0",
       "_view_name": "StyleView",
       "description_width": ""
      }
     },
     "d251c92652bc44198ad5a85074ec53bd": {
      "model_module": "@jupyter-widgets/controls",
      "model_module_version": "1.5.0",
      "model_name": "HBoxModel",
      "state": {
       "_dom_classes": [],
       "_model_module": "@jupyter-widgets/controls",
       "_model_module_version": "1.5.0",
       "_model_name": "HBoxModel",
       "_view_count": null,
       "_view_module": "@jupyter-widgets/controls",
       "_view_module_version": "1.5.0",
       "_view_name": "HBoxView",
       "box_style": "",
       "children": [
        "IPY_MODEL_8e48e4446a764c0dab17436ba57c6249",
        "IPY_MODEL_d67dc3f9492c4e6db7ec02f7297e25af"
       ],
       "layout": "IPY_MODEL_80f919a6775f4b0ab68dde153f9d738b"
      }
     },
     "d67dc3f9492c4e6db7ec02f7297e25af": {
      "model_module": "@jupyter-widgets/controls",
      "model_module_version": "1.5.0",
      "model_name": "HTMLModel",
      "state": {
       "_dom_classes": [],
       "_model_module": "@jupyter-widgets/controls",
       "_model_module_version": "1.5.0",
       "_model_name": "HTMLModel",
       "_view_count": null,
       "_view_module": "@jupyter-widgets/controls",
       "_view_module_version": "1.5.0",
       "_view_name": "HTMLView",
       "description": "",
       "description_tooltip": null,
       "layout": "IPY_MODEL_780e55027e5346b5b5433fde7462f05e",
       "placeholder": "​",
       "style": "IPY_MODEL_6e4061cc7bdf413bb50bde4e4c6cbc9e",
       "value": " 176/176 [00:02&lt;00:00, 83.23it/s]"
      }
     },
     "e1363e9de2c74c308864bc0ad96a6536": {
      "model_module": "@jupyter-widgets/base",
      "model_module_version": "1.2.0",
      "model_name": "LayoutModel",
      "state": {
       "_model_module": "@jupyter-widgets/base",
       "_model_module_version": "1.2.0",
       "_model_name": "LayoutModel",
       "_view_count": null,
       "_view_module": "@jupyter-widgets/base",
       "_view_module_version": "1.2.0",
       "_view_name": "LayoutView",
       "align_content": null,
       "align_items": null,
       "align_self": null,
       "border": null,
       "bottom": null,
       "display": null,
       "flex": null,
       "flex_flow": null,
       "grid_area": null,
       "grid_auto_columns": null,
       "grid_auto_flow": null,
       "grid_auto_rows": null,
       "grid_column": null,
       "grid_gap": null,
       "grid_row": null,
       "grid_template_areas": null,
       "grid_template_columns": null,
       "grid_template_rows": null,
       "height": null,
       "justify_content": null,
       "justify_items": null,
       "left": null,
       "margin": null,
       "max_height": null,
       "max_width": null,
       "min_height": null,
       "min_width": null,
       "object_fit": null,
       "object_position": null,
       "order": null,
       "overflow": null,
       "overflow_x": null,
       "overflow_y": null,
       "padding": null,
       "right": null,
       "top": null,
       "visibility": null,
       "width": null
      }
     },
     "e7530bc3c03b428f99f531fd227357c5": {
      "model_module": "@jupyter-widgets/controls",
      "model_module_version": "1.5.0",
      "model_name": "HBoxModel",
      "state": {
       "_dom_classes": [],
       "_model_module": "@jupyter-widgets/controls",
       "_model_module_version": "1.5.0",
       "_model_name": "HBoxModel",
       "_view_count": null,
       "_view_module": "@jupyter-widgets/controls",
       "_view_module_version": "1.5.0",
       "_view_name": "HBoxView",
       "box_style": "",
       "children": [
        "IPY_MODEL_0a9ba831323f451cb8fa3187aad87053",
        "IPY_MODEL_35b75b96dd264d34a1bad6051bd54f74"
       ],
       "layout": "IPY_MODEL_877f5eded8f3461ba6b2f0416db64a15"
      }
     },
     "ec81a0b7deb44a79b9f3fdfd18c5f95c": {
      "model_module": "@jupyter-widgets/controls",
      "model_module_version": "1.5.0",
      "model_name": "FloatProgressModel",
      "state": {
       "_dom_classes": [],
       "_model_module": "@jupyter-widgets/controls",
       "_model_module_version": "1.5.0",
       "_model_name": "FloatProgressModel",
       "_view_count": null,
       "_view_module": "@jupyter-widgets/controls",
       "_view_module_version": "1.5.0",
       "_view_name": "ProgressView",
       "bar_style": "success",
       "description": "100%",
       "description_tooltip": null,
       "layout": "IPY_MODEL_e1363e9de2c74c308864bc0ad96a6536",
       "max": 9.0,
       "min": 0.0,
       "orientation": "horizontal",
       "style": "IPY_MODEL_4b6f35b91f9f4838a4d5f27bf1eb7bbf",
       "value": 9.0
      }
     },
     "f38cc438dc9f4d77aa82e9c0ebaa4ea7": {
      "model_module": "@jupyter-widgets/controls",
      "model_module_version": "1.5.0",
      "model_name": "ProgressStyleModel",
      "state": {
       "_model_module": "@jupyter-widgets/controls",
       "_model_module_version": "1.5.0",
       "_model_name": "ProgressStyleModel",
       "_view_count": null,
       "_view_module": "@jupyter-widgets/base",
       "_view_module_version": "1.2.0",
       "_view_name": "StyleView",
       "bar_color": null,
       "description_width": "initial"
      }
     },
     "f95420fc9e874761b813377ef39e2e6e": {
      "model_module": "@jupyter-widgets/base",
      "model_module_version": "1.2.0",
      "model_name": "LayoutModel",
      "state": {
       "_model_module": "@jupyter-widgets/base",
       "_model_module_version": "1.2.0",
       "_model_name": "LayoutModel",
       "_view_count": null,
       "_view_module": "@jupyter-widgets/base",
       "_view_module_version": "1.2.0",
       "_view_name": "LayoutView",
       "align_content": null,
       "align_items": null,
       "align_self": null,
       "border": null,
       "bottom": null,
       "display": null,
       "flex": null,
       "flex_flow": null,
       "grid_area": null,
       "grid_auto_columns": null,
       "grid_auto_flow": null,
       "grid_auto_rows": null,
       "grid_column": null,
       "grid_gap": null,
       "grid_row": null,
       "grid_template_areas": null,
       "grid_template_columns": null,
       "grid_template_rows": null,
       "height": null,
       "justify_content": null,
       "justify_items": null,
       "left": null,
       "margin": null,
       "max_height": null,
       "max_width": null,
       "min_height": null,
       "min_width": null,
       "object_fit": null,
       "object_position": null,
       "order": null,
       "overflow": null,
       "overflow_x": null,
       "overflow_y": null,
       "padding": null,
       "right": null,
       "top": null,
       "visibility": null,
       "width": null
      }
     }
    },
    "version_major": 2,
    "version_minor": 0
   }
  }
 },
 "nbformat": 4,
 "nbformat_minor": 4
}
